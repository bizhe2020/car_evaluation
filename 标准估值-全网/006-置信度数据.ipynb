{
 "cells": [
  {
   "cell_type": "code",
   "execution_count": 2,
   "metadata": {},
   "outputs": [
    {
     "name": "stdout",
     "output_type": "stream",
     "text": [
      "DAYU_HOME : /home/souche/projects/datacenter-etl-v2\n",
      "[2021-02-03 17:06:46,080] {driver:120} INFO - Generating grammar tables from /usr/lib/python3.5/lib2to3/Grammar.txt\n",
      "[2021-02-03 17:06:46,107] {driver:120} INFO - Generating grammar tables from /usr/lib/python3.5/lib2to3/PatternGrammar.txt\n",
      "[2021-02-03 17:06:46,452] {<ipython-input-2-5aad934e0497>:84} INFO - 程序启动.............\n"
     ]
    }
   ],
   "source": [
    "# -*- coding: utf-8 -*-\n",
    "import warnings\n",
    "warnings.filterwarnings('ignore')\n",
    "import logging\n",
    "import datetime\n",
    "\n",
    "import csv, math\n",
    "import numpy as np\n",
    "import pandas as pd\n",
    "import matplotlib.pyplot as plt\n",
    "from sklearn.utils import shuffle\n",
    "from sklearn.externals import joblib\n",
    "from sklearn.preprocessing import OneHotEncoder\n",
    "from sklearn.ensemble import RandomForestRegressor\n",
    "from sklearn.ensemble import GradientBoostingRegressor\n",
    "\n",
    "from dayu.hooks.oss_hook import OSSHook\n",
    "from dayu.hooks.hive_server_hook import HiveServerHook\n",
    "from dayu.hooks.hive_cli_hook import HiveCliHook\n",
    "\n",
    "def split_table_name(datain):\n",
    "    new_cols = []\n",
    "    for column in datain.columns:\n",
    "        if(len(column.split('.'))<2):\n",
    "            return datain\n",
    "        tb_name, col_name = column.split('.')\n",
    "        new_cols.append((column, col_name))\n",
    "    datain = datain.rename(columns=dict(new_cols))\n",
    "    return datain\n",
    "\n",
    "def read_from_hive2(output_file_name,insql,dtype):\n",
    "    filename = output_file_name\n",
    "    filepath = curr_dir+filename\n",
    "    hive = HiveServerHook(\"warehouse_hive\")\n",
    "    hive.to_csv(insql,filepath , delimiter=',',lineterminator='\\n', output_header=True)\n",
    "    outdata = pd.read_csv(filepath, header=0,dtype=dtype)\n",
    "    # 去除列名中带有的表名\n",
    "#     outdata = split_table_name(outdata)\n",
    "    return outdata\n",
    "\n",
    "## 计算时间差\n",
    "def date_time_sub(startTime,endTime,date_format):\n",
    "    try:\n",
    "        startTime= datetime.datetime.strptime(startTime,date_format)\n",
    "        endTime= datetime.datetime.strptime(endTime,date_format)\n",
    "        return (endTime - startTime).days\n",
    "    except:\n",
    "        pass\n",
    "\n",
    "    # 计算车辆当前保值率\n",
    "def computer_with_license_month(tar):\n",
    "    try:\n",
    "        license_month = tar['license_month']\n",
    "        if(license_month<=12):\n",
    "            #tar['keep_value'] = tar['year_1']\n",
    "            return tar['year_1']\n",
    "        else:\n",
    "            year = license_month//12\n",
    "            #当前年保值率\n",
    "            keep_max = tar[\"year_\"+str(int(year))]\n",
    "            #下一年的保值率\n",
    "            keep_min = tar[\"year_\"+str(int(year+1))]\n",
    "\n",
    "            #相比于上一年，已经过了几个月\n",
    "            mon = license_month-12*year\n",
    "            tem = (keep_max-keep_min)/12\n",
    "\n",
    "            #tar['keep_value'] = round(keep_max - tem*mon, 4)\n",
    "            return round(keep_max - tem*mon, 4)\n",
    "    except:\n",
    "        return tar[\"year_16\"]\n",
    "\n",
    "class Logger:       \n",
    "    def __init__(self, logName, logFile):\n",
    "        self._logger = logging.getLogger(logName)\n",
    "        handler = logging.FileHandler(logFile)\n",
    "        formatter = logging.Formatter('%(asctime)s ********* %(message)s')\n",
    "        handler.setFormatter(formatter)\n",
    "        self._logger.addHandler(handler)\n",
    "        self._logger.setLevel(logging.INFO)\n",
    "\n",
    "    def log(self, msg):\n",
    "        if self._logger is not None:\n",
    "            self._logger.info(msg)\n",
    "\n",
    "\n",
    "pd.set_option('display.max_columns', 500)\n",
    "curr_dir = '/home/souche/qiongjiu/hgc/'\n",
    "\n",
    "curr_date=str(datetime.datetime.now())[0:10]\n",
    "hive_cli = HiveCliHook(\"warehouse_hive\")\n",
    "\n",
    "logger = Logger('model_service','./log/accurate_valuation_cyp_run_log.log')\n",
    "logger.log(\"程序启动.............\")\n"
   ]
  },
  {
   "cell_type": "code",
   "execution_count": 5,
   "metadata": {},
   "outputs": [],
   "source": [
    "car_data_columns= [\"country_id\",\"manufacturer\",\"battery_quality_mile\",\"battery_quality_time\",\"brand_code\",\"brand_name\",\"car_body\",\n",
    "\"cylinder_number\",\"driving_mode\",\"engine_volume_l\",\"fuel_form\",\"gear_box_type\",\"guide_price\",\"height\",\"import_type\",\n",
    "\"intake_type\",\"length\",\"level\",\"max_power\",\"max_torque\",\"model_code\",\"model_name\",\"quality_mile\",\"quality_time\",\"rate\",\n",
    "\"rate_count\",\"seat_number_top\",\"series_code\",\"series_level\",\"series_name\",\"wheel_base\",\"width\",\"year\",\"down_market_time\",\n",
    "\"production_time\",\"shutdown_time\",\"time_to_market\",\"year_1\",\"year_2\",\"year_3\",\"year_4\",\"year_5\",\"year_6\",\"year_7\",\"year_8\",\n",
    "\"year_9\",\"year_10\",\"year_11\",\"year_12\",\"year_13\",\"year_14\",\"year_15\",\"year_16\"]\n",
    "\n",
    "model = pd.read_csv(curr_dir+'all_car_model_sep_word_to_sql',sep='\\t')\n",
    "ods_car_model_model = model[['model_code','model_name','series_code','series_name','brand_code','brand_name']]\n"
   ]
  },
  {
   "cell_type": "code",
   "execution_count": 6,
   "metadata": {},
   "outputs": [],
   "source": [
    "enterprise2_BBB_level = pd.read_excel(curr_dir+\"enterprise2_BBB_level_retail_median_res.xlsx\")\n",
    "enterprise2_AAA_level = pd.read_excel(curr_dir+\"enterprise2_AAA_level_retail_median_res.xlsx\")\n",
    "enterprise2_BBB_level['level'] = 'B'\n",
    "enterprise2_AAA_level['level'] = 'A'\n",
    "\n",
    "enterprise2_median_res = pd.concat([enterprise2_BBB_level,enterprise2_AAA_level],axis=0)\n",
    "\n",
    "enterprise2_median_res = pd.merge(ods_car_model_model,enterprise2_median_res,on='model_code',how='left')\n"
   ]
  },
  {
   "cell_type": "code",
   "execution_count": 7,
   "metadata": {},
   "outputs": [],
   "source": [
    "enterprise2_median_res_series = enterprise2_median_res[['series_code','median_res']].groupby('series_code').\\\n",
    "                                mean().reset_index().rename(columns={'median_res':'series_median_res'})\n",
    "\n",
    "enterprise2_median_res = pd.merge(enterprise2_median_res,enterprise2_median_res_series,on='series_code',how='left')\n",
    "\n",
    "enterprise2_median_res.loc[(enterprise2_median_res['median_res'].isnull()) \n",
    "                           & (~enterprise2_median_res['series_median_res'].isnull() ),'median_res'] = enterprise2_median_res['series_median_res']\n"
   ]
  },
  {
   "cell_type": "code",
   "execution_count": 8,
   "metadata": {},
   "outputs": [],
   "source": [
    "level_A_mean = enterprise2_median_res.loc[enterprise2_median_res['level'] == 'A']['median_res'].mean()\n",
    "level_B_mean = enterprise2_median_res.loc[enterprise2_median_res['level'] == 'B']['median_res'].mean()\n",
    "\n",
    "enterprise2_median_res.loc[(enterprise2_median_res['median_res'].isnull()) & \n",
    "                           (enterprise2_median_res['level'] == 'A'),'median_res'] = level_A_mean\n",
    "\n",
    "enterprise2_median_res.loc[(enterprise2_median_res['median_res'].isnull()) & \n",
    "                           (enterprise2_median_res['level'] == 'B'),'median_res'] = level_B_mean\n",
    "\n",
    "\n",
    "enterprise2_median_res.loc[(enterprise2_median_res['median_res'].isnull()),'median_res'] = enterprise2_median_res['median_res'].mean()\n",
    "\n"
   ]
  },
  {
   "cell_type": "code",
   "execution_count": 10,
   "metadata": {},
   "outputs": [],
   "source": [
    "enterprise2_median_res[['model_code','model_name','series_code','series_name','brand_code',\n",
    "                        'brand_name','median_res']].to_csv(curr_dir+\"enterprise2_retail_median_res.csv\")\n"
   ]
  },
  {
   "cell_type": "code",
   "execution_count": 11,
   "metadata": {},
   "outputs": [
    {
     "name": "stdout",
     "output_type": "stream",
     "text": [
      "[2021-02-03 17:07:12,466] {oss_hook:28} INFO - Done. Loaded the key algorithm/qiongjiu/valuation/全网数据-优化模型/2021-02-03/enterprise2_retail_median_res.csv .\n"
     ]
    }
   ],
   "source": [
    "## 导出统计的数据中位数、平均值、标准差\n",
    "ph = curr_dir+\"enterprise2_retail_median_res.csv\"\n",
    "from dayu.hooks.oss_hook import OSSHook\n",
    "oss = OSSHook(\"oss_algorithm\")\n",
    "oss.put_file(\"algorithm/qiongjiu/valuation/全网数据-优化模型/\"+curr_date+\"/enterprise2_retail_median_res.csv\", ph)\n"
   ]
  },
  {
   "cell_type": "code",
   "execution_count": null,
   "metadata": {},
   "outputs": [],
   "source": []
  }
 ],
 "metadata": {
  "kernelspec": {
   "display_name": "Python 3",
   "language": "python",
   "name": "python3"
  },
  "language_info": {
   "codemirror_mode": {
    "name": "ipython",
    "version": 3
   },
   "file_extension": ".py",
   "mimetype": "text/x-python",
   "name": "python",
   "nbconvert_exporter": "python",
   "pygments_lexer": "ipython3",
   "version": "3.5.2"
  }
 },
 "nbformat": 4,
 "nbformat_minor": 2
}

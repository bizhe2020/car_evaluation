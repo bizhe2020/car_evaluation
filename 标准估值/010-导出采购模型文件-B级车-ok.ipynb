{
 "cells": [
  {
   "cell_type": "code",
   "execution_count": 1,
   "metadata": {
    "ExecuteTime": {
     "end_time": "2020-03-30T10:21:19.615828Z",
     "start_time": "2020-03-30T10:21:18.552202Z"
    }
   },
   "outputs": [],
   "source": [
    "# -*- coding: utf-8 -*-\n",
    "import warnings\n",
    "warnings.filterwarnings('ignore')\n",
    "\n",
    "import csv, math\n",
    "import numpy as np\n",
    "import pandas as pd\n",
    "import matplotlib.pyplot as plt\n",
    "from sklearn.utils import shuffle\n",
    "from sklearn.externals import joblib\n",
    "from sklearn.preprocessing import OneHotEncoder\n",
    "from sklearn.ensemble import RandomForestRegressor\n",
    "from sklearn.ensemble import GradientBoostingRegressor\n",
    "\n",
    "pd.set_option('display.max_columns', 500)\n",
    "curr_dir = '/home/souche/qiongjiu/hgc/'"
   ]
  },
  {
   "cell_type": "code",
   "execution_count": 2,
   "metadata": {
    "ExecuteTime": {
     "end_time": "2020-03-30T10:21:35.807179Z",
     "start_time": "2020-03-30T10:21:21.922215Z"
    }
   },
   "outputs": [
    {
     "name": "stdout",
     "output_type": "stream",
     "text": [
      "<class 'pandas.core.frame.DataFrame'>\n",
      "RangeIndex: 1399647 entries, 0 to 1399646\n",
      "Data columns (total 61 columns):\n",
      "car_id                      1399647 non-null int64\n",
      "brand_code                  1399543 non-null object\n",
      "brand_name                  1399543 non-null object\n",
      "series_code                 1399543 non-null object\n",
      "series_name                 1399543 non-null object\n",
      "model_code                  1399647 non-null object\n",
      "model_name                  1399543 non-null object\n",
      "mileage_std                 1399647 non-null float64\n",
      "color_name                  1399405 non-null object\n",
      "first_license_plate_date    1399647 non-null object\n",
      "province_name               1399647 non-null object\n",
      "city_name                   1399647 non-null object\n",
      "purchase_price              1399647 non-null float64\n",
      "order_create_time           1399647 non-null object\n",
      "license_month               1399647 non-null int64\n",
      "residual                    1399647 non-null float64\n",
      "days                        1399647 non-null int64\n",
      "license_year                1399647 non-null int64\n",
      "model_year                  1399647 non-null int64\n",
      "new_car_price               1399647 non-null float64\n",
      "rate                        1399647 non-null float64\n",
      "rate_count                  1399647 non-null float64\n",
      "per_mile                    1399647 non-null float64\n",
      "year_err                    1399647 non-null int64\n",
      "province_name0              1399647 non-null int64\n",
      "province_name1              1399647 non-null int64\n",
      "province_name2              1399647 non-null int64\n",
      "province_name3              1399647 non-null int64\n",
      "province_name4              1399647 non-null int64\n",
      "province_name5              1399647 non-null int64\n",
      "province_name6              1399647 non-null int64\n",
      "province_name7              1399647 non-null int64\n",
      "province_name8              1399647 non-null int64\n",
      "province_name9              1399647 non-null int64\n",
      "province_name10             1399647 non-null int64\n",
      "province_name11             1399647 non-null int64\n",
      "province_name12             1399647 non-null int64\n",
      "province_name13             1399647 non-null int64\n",
      "province_name14             1399647 non-null int64\n",
      "province_name15             1399647 non-null int64\n",
      "province_name16             1399647 non-null int64\n",
      "province_name17             1399647 non-null int64\n",
      "province_name18             1399647 non-null int64\n",
      "province_name19             1399647 non-null int64\n",
      "province_name20             1399647 non-null int64\n",
      "province_name21             1399647 non-null int64\n",
      "province_name22             1399647 non-null int64\n",
      "province_name23             1399647 non-null int64\n",
      "province_name24             1399647 non-null int64\n",
      "province_name25             1399647 non-null int64\n",
      "province_name26             1399647 non-null int64\n",
      "province_name27             1399647 non-null int64\n",
      "province_name28             1399647 non-null int64\n",
      "province_name29             1399647 non-null int64\n",
      "province_name30             1399647 non-null int64\n",
      "keep_value                  1399647 non-null float64\n",
      "quality                     1399647 non-null int64\n",
      "mile_log                    1399647 non-null float64\n",
      "license_month_log           1399647 non-null float64\n",
      "new_car_price_log           1399647 non-null float64\n",
      "count                       1399647 non-null int64\n",
      "dtypes: float64(11), int64(39), object(11)\n",
      "memory usage: 651.4+ MB\n"
     ]
    }
   ],
   "source": [
    "data = pd.read_csv(curr_dir+\"2020-11-02版带count处理完成的采购数据m.csv\", header = 0, low_memory=False)\n",
    "data.info()"
   ]
  },
  {
   "cell_type": "code",
   "execution_count": 3,
   "metadata": {
    "ExecuteTime": {
     "end_time": "2020-03-30T10:28:20.758054Z",
     "start_time": "2020-03-30T10:28:18.792441Z"
    }
   },
   "outputs": [
    {
     "name": "stdout",
     "output_type": "stream",
     "text": [
      "(65250, 151)\n"
     ]
    }
   ],
   "source": [
    "car = pd.read_csv(curr_dir+\"2020-11-02版车型参数及独热编码.csv\", header = 0, low_memory=False)\n",
    "car=car.drop(['model_year','new_car_price', 'driving_mode','gear_box_type','country_id',\n",
    " 'import_type','intake_type', 'fuel_form','quality_mile', 'quality_year',\n",
    " 'year_1','year_2','year_3','year_4','year_5','year_6','year_7','year_8',\n",
    " 'year_9', 'year_10','year_11','year_12','year_13','year_14','year_15',\n",
    " 'year_16', 'car_body','rate','rate_count'],axis=1)\n",
    "\n",
    "print(car.shape)\n"
   ]
  },
  {
   "cell_type": "code",
   "execution_count": 4,
   "metadata": {
    "ExecuteTime": {
     "end_time": "2020-03-30T10:28:28.171283Z",
     "start_time": "2020-03-30T10:28:21.225468Z"
    }
   },
   "outputs": [
    {
     "name": "stdout",
     "output_type": "stream",
     "text": [
      "(65250, 101)\n",
      "(1399647, 311)\n"
     ]
    }
   ],
   "source": [
    "data = pd.merge(data, car, how=\"inner\", on=\"model_code\")\n",
    "\n",
    "vec = pd.read_csv(curr_dir+\"2020-11-02版-TF-IDF权重的词向量.csv\", dtype={'model_code': str}, header = 0)\n",
    "vec = vec.drop(['model_name'], axis=1)\n",
    "print(vec.shape)\n",
    "\n",
    "data = pd.merge(data, vec, how=\"inner\", on=\"model_code\")\n",
    "print(data.shape)"
   ]
  },
  {
   "cell_type": "code",
   "execution_count": 6,
   "metadata": {
    "ExecuteTime": {
     "end_time": "2020-03-30T10:28:36.198209Z",
     "start_time": "2020-03-30T10:28:30.079189Z"
    }
   },
   "outputs": [
    {
     "name": "stdout",
     "output_type": "stream",
     "text": [
      "筛选出B级以上的车数据量为:668434\n",
      "筛选出B级以上的车的model_code为:9851\n",
      "包含的车型级别: ['B' 'C' 'D' 'E']\n"
     ]
    }
   ],
   "source": [
    "data_B = data[(data['level']==\"B\") | \n",
    "              (data['level']==\"C\") | \n",
    "              (data['level']==\"D\") | \n",
    "              (data['level']==\"E\")]\n",
    "print(\"筛选出B级以上的车数据量为:%d\" % data_B.shape[0])\n",
    "print(\"筛选出B级以上的车的model_code为:%d\" % len(data_B['model_code'].unique()))\n",
    "print(\"包含的车型级别:\", data_B['level'].unique())"
   ]
  },
  {
   "cell_type": "code",
   "execution_count": 7,
   "metadata": {
    "ExecuteTime": {
     "end_time": "2020-03-30T10:28:39.431239Z",
     "start_time": "2020-03-30T10:28:38.727676Z"
    }
   },
   "outputs": [
    {
     "name": "stdout",
     "output_type": "stream",
     "text": [
      "(668434, 282) 668434\n"
     ]
    }
   ],
   "source": [
    "data_X = data_B.drop(['car_id', 'brand_code', 'brand_name', 'series_code',\n",
    "                      'series_name', 'model_code', 'model_name',  'color_name',\n",
    "                      'first_license_plate_date', 'province_name', 'city_name',\n",
    "                      'purchase_price', 'order_create_time', 'residual', 'mileage_std', 'license_month',\n",
    "                      'new_car_price', 'count', 'series_level', 'level', 'level0', 'level1',\n",
    "                      'level2', 'level3', 'level4', 'level5', 'level6', 'level7', 'level8'], axis=1)\n",
    "data_y = data_B['residual']\n",
    "\n",
    "print(data_X.shape, len(data_y))"
   ]
  },
  {
   "cell_type": "code",
   "execution_count": 8,
   "metadata": {
    "ExecuteTime": {
     "end_time": "2020-03-30T10:34:02.907617Z",
     "start_time": "2020-03-30T10:28:41.905800Z"
    }
   },
   "outputs": [
    {
     "data": {
      "text/plain": [
       "LGBMRegressor(boosting_type='gbdt', class_weight=None, colsample_bytree=0.3,\n",
       "       learning_rate=0.04, max_depth=8, min_child_samples=100,\n",
       "       min_child_weight=0.001, min_split_gain=0.0, n_estimators=2800,\n",
       "       n_jobs=8, num_leaves=150, objective='regression', random_state=None,\n",
       "       reg_alpha=0.0, reg_lambda=0.0, silent=True, subsample=0.95,\n",
       "       subsample_for_bin=200000, subsample_freq=0, verbose=1)"
      ]
     },
     "execution_count": 8,
     "metadata": {},
     "output_type": "execute_result"
    }
   ],
   "source": [
    "import lightgbm as lgb\n",
    "\n",
    "gbm = lgb.LGBMRegressor(boosting_type = 'gbdt', \n",
    "                        objective = 'regression', \n",
    "                        learning_rate = 0.04, \n",
    "                        n_estimators = 2800, \n",
    "                        max_depth = 8, \n",
    "                        num_leaves = 150, \n",
    "                        subsample = 0.95, \n",
    "                        colsample_bytree = 0.3, \n",
    "                        min_child_samples = 100, \n",
    "                        n_jobs = 8, \n",
    "                        verbose = 1)\n",
    "gbm.fit(data_X, \n",
    "        data_y,\n",
    "        verbose = 2)"
   ]
  },
  {
   "cell_type": "code",
   "execution_count": 13,
   "metadata": {
    "ExecuteTime": {
     "end_time": "2020-03-30T10:34:46.897929Z",
     "start_time": "2020-03-30T10:34:06.560620Z"
    }
   },
   "outputs": [
    {
     "data": {
      "text/plain": [
       "(133682, 314)"
      ]
     },
     "execution_count": 13,
     "metadata": {},
     "output_type": "execute_result"
    }
   ],
   "source": [
    "data_B['ypred'] = gbm.predict(data_X)\n",
    "data_B['err'] = abs(data_B['ypred'] - data_B['residual'])/data_B['residual']\n",
    "data_B[data_B['err']>=0.1].shape"
   ]
  },
  {
   "cell_type": "code",
   "execution_count": 14,
   "metadata": {},
   "outputs": [
    {
     "name": "stdout",
     "output_type": "stream",
     "text": [
      "P<3%:  0.3621\n",
      "P<5%:  0.5428\n",
      "P<8%:  0.723\n",
      "P<10%:  0.8\n",
      "P<20%:  0.9462\n"
     ]
    }
   ],
   "source": [
    "def data3m_pinggu(data_df,col):\n",
    "    total = data_df.shape[0]\n",
    "    num_3 = data_df.loc[(data_df[col]>=-0.03 ) & (data_df[col]<=0.03 )].shape[0]\n",
    "    print(\"P<3%: \",round(num_3/total,4))\n",
    "    num_5 = data_df.loc[(data_df[col]>=-0.05 ) & (data_df[col]<=0.05 )].shape[0]\n",
    "    print(\"P<5%: \",round(num_5/total,4))\n",
    "    num_8 = data_df.loc[(data_df[col]>=-0.08 ) & (data_df[col]<=0.08 )].shape[0]\n",
    "    print(\"P<8%: \",round(num_8/total,4))\n",
    "    num_10 = data_df.loc[(data_df[col]>=-0.1 ) & (data_df[col]<=0.1 )].shape[0]\n",
    "    print(\"P<10%: \",round(num_10/total,4))\n",
    "    num_20 = data_df.loc[(data_df[col]>=-0.2 ) & (data_df[col]<=0.2 )].shape[0]\n",
    "    print(\"P<20%: \",round(num_20/total,4))\n",
    "\n",
    "data_B['差异'] = (data_B['ypred']-data_B['residual'])/data_B['residual']\n",
    "data3m_pinggu(data_B,'差异')"
   ]
  },
  {
   "cell_type": "code",
   "execution_count": 12,
   "metadata": {
    "ExecuteTime": {
     "end_time": "2020-03-30T10:39:17.639901Z",
     "start_time": "2020-03-30T10:39:14.935988Z"
    }
   },
   "outputs": [
    {
     "name": "stdout",
     "output_type": "stream",
     "text": [
      "(653554, 282) 653554\n"
     ]
    }
   ],
   "source": [
    "data_B = data_B[data_B['err']<0.1]\n",
    "#打乱数据集\n",
    "data_B = shuffle(data_B)\n",
    "\n",
    "data_X = data_B.drop(['car_id', 'brand_code', 'brand_name', 'series_code',\n",
    "                      'series_name', 'model_code', 'model_name',  'color_name',\n",
    "                      'first_license_plate_date', 'province_name', 'city_name',\n",
    "                      'purchase_price', 'order_create_time', 'residual', 'mileage_std', 'license_month',\n",
    "                      'new_car_price', 'count', 'series_level', 'level', 'level0', 'level1',\n",
    "                      'level2', 'level3', 'level4', 'level5', 'level6', 'level7', 'level8', 'ypred', 'err'], axis=1)\n",
    "data_y = data_B['residual']\n",
    "print(data_X.shape, len(data_y))"
   ]
  },
  {
   "cell_type": "code",
   "execution_count": 13,
   "metadata": {},
   "outputs": [],
   "source": [
    "for i in range(15):\n",
    "    data_X = data_X.rename(columns={\"country_id\"+str(i):\"Country_Id\"+str(i)})\n"
   ]
  },
  {
   "cell_type": "code",
   "execution_count": 15,
   "metadata": {
    "ExecuteTime": {
     "end_time": "2020-03-30T10:45:09.867775Z",
     "start_time": "2020-03-30T10:39:20.754107Z"
    }
   },
   "outputs": [],
   "source": [
    "from sklearn2pmml.pipeline import PMMLPipeline\n",
    "from sklearn2pmml import sklearn2pmml\n",
    "import lightgbm as lgb\n",
    "\n",
    "pipeline = PMMLPipeline([(\"regressor\", lgb.LGBMRegressor(boosting_type='gbdt',\n",
    "                                                         objective='regression',\n",
    "                                                         learning_rate=0.04,\n",
    "                                                         n_estimators=2800,\n",
    "                                                         max_depth=8,\n",
    "                                                         num_leaves=150,\n",
    "                                                         subsample=0.95,\n",
    "                                                         colsample_bytree=0.3,\n",
    "                                                         min_child_samples=100,\n",
    "                                                         n_jobs=8,\n",
    "                                                         verbose=1))])\n",
    "pipeline.fit(data_X, data_y)\n",
    "ph = curr_dir+\"enterprise2_BBB_level_dfc_purchase.pmml\"\n",
    "sklearn2pmml(pipeline, ph, with_repr=True)"
   ]
  },
  {
   "cell_type": "code",
   "execution_count": 16,
   "metadata": {
    "ExecuteTime": {
     "end_time": "2020-03-30T10:45:14.169270Z",
     "start_time": "2020-03-30T10:45:13.570451Z"
    }
   },
   "outputs": [
    {
     "data": {
      "text/plain": [
       "['/home/souche/qiongjiu/hgc/B_level_dfc_purchase_model_2020-11-02']"
      ]
     },
     "execution_count": 16,
     "metadata": {},
     "output_type": "execute_result"
    }
   ],
   "source": [
    "joblib.dump(pipeline,curr_dir+'B_level_dfc_purchase_model_2020-11-02')\n"
   ]
  },
  {
   "cell_type": "code",
   "execution_count": 17,
   "metadata": {},
   "outputs": [
    {
     "name": "stdout",
     "output_type": "stream",
     "text": [
      "DAYU_HOME : /home/souche/projects/datacenter-etl-v2\n",
      "[2020-11-05 12:30:14,296] {driver:120} INFO - Generating grammar tables from /usr/lib/python3.5/lib2to3/Grammar.txt\n",
      "[2020-11-05 12:30:14,325] {driver:120} INFO - Generating grammar tables from /usr/lib/python3.5/lib2to3/PatternGrammar.txt\n",
      "[2020-11-05 12:30:15,540] {oss_hook:28} INFO - Done. Loaded the key algorithm/qiongjiu/valuation/2020-11-02/enterprise2_BBB_level_dfc_purchase.pmml .\n"
     ]
    }
   ],
   "source": [
    "# 上传到 oss上 \n",
    "ph = curr_dir+\"enterprise2_BBB_level_dfc_purchase.pmml\"\n",
    "from dayu.hooks.oss_hook import OSSHook\n",
    "oss = OSSHook(\"oss_algorithm\")\n",
    "oss.put_file(\"algorithm/qiongjiu/valuation/2020-11-02/enterprise2_BBB_level_dfc_purchase.pmml\", ph)"
   ]
  },
  {
   "cell_type": "code",
   "execution_count": null,
   "metadata": {},
   "outputs": [],
   "source": []
  }
 ],
 "metadata": {
  "kernelspec": {
   "display_name": "Python 3",
   "language": "python",
   "name": "python3"
  },
  "language_info": {
   "codemirror_mode": {
    "name": "ipython",
    "version": 3
   },
   "file_extension": ".py",
   "mimetype": "text/x-python",
   "name": "python",
   "nbconvert_exporter": "python",
   "pygments_lexer": "ipython3",
   "version": "3.5.2"
  },
  "toc": {
   "base_numbering": 1,
   "nav_menu": {},
   "number_sections": true,
   "sideBar": true,
   "skip_h1_title": false,
   "title_cell": "Table of Contents",
   "title_sidebar": "Contents",
   "toc_cell": false,
   "toc_position": {},
   "toc_section_display": true,
   "toc_window_display": false
  },
  "varInspector": {
   "cols": {
    "lenName": 16,
    "lenType": 16,
    "lenVar": 40
   },
   "kernels_config": {
    "python": {
     "delete_cmd_postfix": "",
     "delete_cmd_prefix": "del ",
     "library": "var_list.py",
     "varRefreshCmd": "print(var_dic_list())"
    },
    "r": {
     "delete_cmd_postfix": ") ",
     "delete_cmd_prefix": "rm(",
     "library": "var_list.r",
     "varRefreshCmd": "cat(var_dic_list()) "
    }
   },
   "types_to_exclude": [
    "module",
    "function",
    "builtin_function_or_method",
    "instance",
    "_Feature"
   ],
   "window_display": false
  }
 },
 "nbformat": 4,
 "nbformat_minor": 2
}

{
 "cells": [
  {
   "cell_type": "code",
   "execution_count": 1,
   "metadata": {},
   "outputs": [],
   "source": [
    "import pandas as pd\n",
    "curr_dir = '/home/souche/qiongjiu/hgc/'"
   ]
  },
  {
   "cell_type": "code",
   "execution_count": 2,
   "metadata": {
    "ExecuteTime": {
     "end_time": "2020-03-31T10:07:02.738594Z",
     "start_time": "2020-03-31T10:07:00.947563Z"
    }
   },
   "outputs": [],
   "source": [
    "car = pd.read_csv(curr_dir+\"2020-11-02版车型参数及独热编码.csv\", header = 0, low_memory=False)\n",
    "car = car.drop(['driving_mode', 'gear_box_type', 'country_id',\n",
    "                'import_type', 'intake_type', 'fuel_form',\n",
    "                'year_1', 'year_2', 'year_3', 'year_4', 'year_5', 'year_6', 'year_7', 'year_8',\n",
    "                'year_9', 'year_10', 'year_11', 'year_12', 'year_13', 'year_14', 'year_15',\n",
    "                'year_16', 'car_body', 'rate', 'rate_count', 'series_level', 'level0',\n",
    "                'level1', 'level2','level3','level4','level5','level6','level7','level8'], axis=1)"
   ]
  },
  {
   "cell_type": "code",
   "execution_count": 6,
   "metadata": {
    "ExecuteTime": {
     "end_time": "2020-03-31T10:15:49.850194Z",
     "start_time": "2020-03-31T10:15:49.832661Z"
    }
   },
   "outputs": [],
   "source": [
    "A=[\"Mini Bus\",'BUS']\n",
    "car.loc[car.level.isin(A), 'level'] = \"A\""
   ]
  },
  {
   "cell_type": "code",
   "execution_count": 7,
   "metadata": {
    "ExecuteTime": {
     "end_time": "2020-03-31T10:15:57.722101Z",
     "start_time": "2020-03-31T10:15:57.698608Z"
    },
    "scrolled": true
   },
   "outputs": [
    {
     "data": {
      "text/plain": [
       "A      17317\n",
       "缺失     15674\n",
       "B      13471\n",
       "C       7384\n",
       "A0      6077\n",
       "D       3527\n",
       "A00     1505\n",
       "E        295\n",
       "Name: level, dtype: int64"
      ]
     },
     "execution_count": 7,
     "metadata": {},
     "output_type": "execute_result"
    }
   ],
   "source": [
    "car.level.value_counts()"
   ]
  },
  {
   "cell_type": "code",
   "execution_count": 13,
   "metadata": {},
   "outputs": [
    {
     "name": "stdout",
     "output_type": "stream",
     "text": [
      "DAYU_HOME : /home/souche/projects/datacenter-etl-v2\n"
     ]
    },
    {
     "name": "stderr",
     "output_type": "stream",
     "text": [
      "/home/souche/projects/calculation/py3dev_new/lib/python3.5/site-packages/psycopg2/__init__.py:144: UserWarning: The psycopg2 wheel package will be renamed from release 2.8; in order to keep installing from binary please use \"pip install psycopg2-binary\" instead. For details see: <http://initd.org/psycopg/docs/install.html#binary-install-from-pypi>.\n",
      "  \"\"\")\n"
     ]
    },
    {
     "name": "stdout",
     "output_type": "stream",
     "text": [
      "[2020-11-04 10:47:31,518] {driver:120} INFO - Generating grammar tables from /usr/lib/python3.5/lib2to3/Grammar.txt\n",
      "[2020-11-04 10:47:31,545] {driver:120} INFO - Generating grammar tables from /usr/lib/python3.5/lib2to3/PatternGrammar.txt\n",
      "[2020-11-04 10:47:32,566] {oss_hook:28} INFO - Done. Loaded the key algorithm/qiongjiu/valuation/2020-11-02/enterprise2_car_parameter_onehot.csv .\n"
     ]
    }
   ],
   "source": [
    "ph = curr_dir+\"enterprise2_car_parameter_onehot.csv\"\n",
    "car.to_csv(ph)\n",
    "from dayu.hooks.oss_hook import OSSHook\n",
    "oss = OSSHook(\"oss_algorithm\")\n",
    "oss.put_file(\"algorithm/qiongjiu/valuation/2020-11-02/enterprise2_car_parameter_onehot.csv\", ph)\n"
   ]
  },
  {
   "cell_type": "code",
   "execution_count": 15,
   "metadata": {
    "ExecuteTime": {
     "end_time": "2020-03-31T10:19:38.753989Z",
     "start_time": "2020-03-31T10:19:36.672845Z"
    }
   },
   "outputs": [
    {
     "name": "stdout",
     "output_type": "stream",
     "text": [
      "<class 'pandas.core.frame.DataFrame'>\n",
      "RangeIndex: 65250 entries, 0 to 65249\n",
      "Columns: 102 entries, model_code to wordvec99\n",
      "dtypes: float64(100), object(2)\n",
      "memory usage: 50.8+ MB\n"
     ]
    }
   ],
   "source": [
    "vec = pd.read_csv(curr_dir+\"2020-11-02版-TF-IDF权重的词向量.csv\", header = 0, low_memory=False)\n",
    "vec.info()"
   ]
  },
  {
   "cell_type": "code",
   "execution_count": 16,
   "metadata": {
    "ExecuteTime": {
     "end_time": "2020-03-31T10:19:43.058249Z",
     "start_time": "2020-03-31T10:19:42.978149Z"
    }
   },
   "outputs": [
    {
     "data": {
      "text/plain": [
       "Index(['model_code', 'wordvec0', 'wordvec1', 'wordvec2', 'wordvec3',\n",
       "       'wordvec4', 'wordvec5', 'wordvec6', 'wordvec7', 'wordvec8',\n",
       "       ...\n",
       "       'wordvec90', 'wordvec91', 'wordvec92', 'wordvec93', 'wordvec94',\n",
       "       'wordvec95', 'wordvec96', 'wordvec97', 'wordvec98', 'wordvec99'],\n",
       "      dtype='object', length=101)"
      ]
     },
     "execution_count": 16,
     "metadata": {},
     "output_type": "execute_result"
    }
   ],
   "source": [
    "vec = vec.drop(['model_name'], axis=1)\n",
    "vec.columns"
   ]
  },
  {
   "cell_type": "code",
   "execution_count": 20,
   "metadata": {},
   "outputs": [
    {
     "name": "stdout",
     "output_type": "stream",
     "text": [
      "[2020-11-04 10:48:33,236] {oss_hook:28} INFO - Done. Loaded the key algorithm/qiongjiu/valuation/2020-11-02/enterprise2_model_name_word2vec.csv .\n"
     ]
    }
   ],
   "source": [
    "ph = curr_dir+\"enterprise2_model_name_word2vec.csv\"\n",
    "vec.to_csv(ph)\n",
    "from dayu.hooks.oss_hook import OSSHook\n",
    "oss = OSSHook(\"oss_algorithm\")\n",
    "oss.put_file(\"algorithm/qiongjiu/valuation/2020-11-02/enterprise2_model_name_word2vec.csv\", ph)\n"
   ]
  },
  {
   "cell_type": "code",
   "execution_count": 23,
   "metadata": {
    "ExecuteTime": {
     "end_time": "2020-04-01T01:40:46.208930Z",
     "start_time": "2020-04-01T01:40:46.143658Z"
    }
   },
   "outputs": [
    {
     "name": "stdout",
     "output_type": "stream",
     "text": [
      "<class 'pandas.core.frame.DataFrame'>\n",
      "RangeIndex: 65251 entries, 0 to 65250\n",
      "Data columns (total 3 columns):\n",
      "model_code     65251 non-null object\n",
      "series_code    65251 non-null object\n",
      "brand_code     65251 non-null object\n",
      "dtypes: object(3)\n",
      "memory usage: 1.5+ MB\n"
     ]
    },
    {
     "name": "stderr",
     "output_type": "stream",
     "text": [
      "/home/souche/projects/calculation/py3dev_new/lib/python3.5/site-packages/IPython/core/interactiveshell.py:2785: DtypeWarning: Columns (2,3,7,9,12,13,16,18,19,20,22,23,24,25,26,30,31,32,33,34,35,36,37,38,39,40,41,42,43,44,45,46,47,48,49,50,51,52) have mixed types. Specify dtype option on import or set low_memory=False.\n",
      "  interactivity=interactivity, compiler=compiler, result=result)\n"
     ]
    }
   ],
   "source": [
    "# 读取 016 017 里面的 q_res\n",
    "car_data_columns= [\"country_id\",\"manufacturer\",\"battery_quality_mile\",\"battery_quality_time\",\"brand_code\",\"brand_name\",\"car_body\",\n",
    "\"cylinder_number\",\"driving_mode\",\"engine_volume_l\",\"fuel_form\",\"gear_box_type\",\"guide_price\",\"height\",\"import_type\",\n",
    "\"intake_type\",\"length\",\"level\",\"max_power\",\"max_torque\",\"model_code\",\"model_name\",\"quality_mile\",\"quality_time\",\"rate\",\n",
    "\"rate_count\",\"seat_number_top\",\"series_code\",\"series_level\",\"series_name\",\"wheel_base\",\"width\",\"year\",\"down_market_time\",\n",
    "\"production_time\",\"shutdown_time\",\"time_to_market\",\"year_1\",\"year_2\",\"year_3\",\"year_4\",\"year_5\",\"year_6\",\"year_7\",\"year_8\",\n",
    "\"year_9\",\"year_10\",\"year_11\",\"year_12\",\"year_13\",\"year_14\",\"year_15\",\"year_16\"]\n",
    "q_res = pd.read_csv(curr_dir+'all_car_model_sep_word_to_sql',header=None,sep='\\t',names=car_data_columns)\n",
    "q_res = q_res[['model_code','series_code','brand_code']]\n",
    "q_res.info()\n"
   ]
  },
  {
   "cell_type": "code",
   "execution_count": 24,
   "metadata": {
    "ExecuteTime": {
     "end_time": "2020-04-01T01:41:57.292160Z",
     "start_time": "2020-04-01T01:41:55.500469Z"
    }
   },
   "outputs": [],
   "source": [
    "keep_value = pd.read_csv(curr_dir+\"2020-11-02版车型参数及独热编码.csv\", header = 0, low_memory=False)"
   ]
  },
  {
   "cell_type": "code",
   "execution_count": 25,
   "metadata": {
    "ExecuteTime": {
     "end_time": "2020-04-01T01:41:58.885168Z",
     "start_time": "2020-04-01T01:41:58.857813Z"
    }
   },
   "outputs": [],
   "source": [
    "keep_value = keep_value[['model_code', 'year_1', 'year_2', 'year_3', 'year_4', 'year_5', 'year_6', 'year_7', 'year_8',\n",
    "                         'year_9', 'year_10', 'year_11', 'year_12', 'year_13', 'year_14', 'year_15',\n",
    "                         'year_16', 'rate', 'rate_count']]\n",
    "keep_value=pd.merge(keep_value,q_res,on='model_code',how='left')"
   ]
  },
  {
   "cell_type": "code",
   "execution_count": 30,
   "metadata": {},
   "outputs": [
    {
     "name": "stdout",
     "output_type": "stream",
     "text": [
      "[2020-11-04 10:48:44,676] {oss_hook:28} INFO - Done. Loaded the key algorithm/qiongjiu/valuation/2020-11-02/enterprise2_keep_value_and_rate.csv .\n"
     ]
    }
   ],
   "source": [
    "ph = curr_dir+\"enterprise2_keep_value_and_rate.csv\"\n",
    "keep_value.to_csv(ph)\n",
    "from dayu.hooks.oss_hook import OSSHook\n",
    "oss = OSSHook(\"oss_algorithm\")\n",
    "oss.put_file(\"algorithm/qiongjiu/valuation/2020-11-02/enterprise2_keep_value_and_rate.csv\", ph)\n"
   ]
  }
 ],
 "metadata": {
  "kernelspec": {
   "display_name": "Python 3",
   "language": "python",
   "name": "python3"
  },
  "language_info": {
   "codemirror_mode": {
    "name": "ipython",
    "version": 3
   },
   "file_extension": ".py",
   "mimetype": "text/x-python",
   "name": "python",
   "nbconvert_exporter": "python",
   "pygments_lexer": "ipython3",
   "version": "3.5.2"
  },
  "toc": {
   "base_numbering": 1,
   "nav_menu": {},
   "number_sections": true,
   "sideBar": true,
   "skip_h1_title": false,
   "title_cell": "Table of Contents",
   "title_sidebar": "Contents",
   "toc_cell": false,
   "toc_position": {},
   "toc_section_display": true,
   "toc_window_display": false
  },
  "varInspector": {
   "cols": {
    "lenName": 16,
    "lenType": 16,
    "lenVar": 40
   },
   "kernels_config": {
    "python": {
     "delete_cmd_postfix": "",
     "delete_cmd_prefix": "del ",
     "library": "var_list.py",
     "varRefreshCmd": "print(var_dic_list())"
    },
    "r": {
     "delete_cmd_postfix": ") ",
     "delete_cmd_prefix": "rm(",
     "library": "var_list.r",
     "varRefreshCmd": "cat(var_dic_list()) "
    }
   },
   "types_to_exclude": [
    "module",
    "function",
    "builtin_function_or_method",
    "instance",
    "_Feature"
   ],
   "window_display": false
  }
 },
 "nbformat": 4,
 "nbformat_minor": 2
}

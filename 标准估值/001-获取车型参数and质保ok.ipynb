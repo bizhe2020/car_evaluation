{
 "cells": [
  {
   "cell_type": "code",
   "execution_count": 1,
   "metadata": {},
   "outputs": [],
   "source": [
    "# -*- coding: utf-8 -*-\n",
    "import pymysql\n",
    "import numpy as np\n",
    "import pandas as pd\n",
    "\n",
    "import warnings\n",
    "warnings.filterwarnings('ignore')\n",
    "curr_dir = '/home/souche/qiongjiu/hgc/'"
   ]
  },
  {
   "cell_type": "code",
   "execution_count": 2,
   "metadata": {},
   "outputs": [],
   "source": [
    "car_data_columns= [\"country_id\",\"manufacturer\",\"battery_quality_mile\",\"battery_quality_time\",\"brand_code\",\"brand_name\",\"car_body\",\n",
    "\"cylinder_number\",\"driving_mode\",\"engine_volume_l\",\"fuel_form\",\"gear_box_type\",\"guide_price\",\"height\",\"import_type\",\n",
    "\"intake_type\",\"length\",\"level\",\"max_power\",\"max_torque\",\"model_code\",\"model_name\",\"quality_mile\",\"quality_time\",\"rate\",\n",
    "\"rate_count\",\"seat_number_top\",\"series_code\",\"series_level\",\"series_name\",\"wheel_base\",\"width\",\"year\",\"down_market_time\",\n",
    "\"production_time\",\"shutdown_time\",\"time_to_market\",\"year_1\",\"year_2\",\"year_3\",\"year_4\",\"year_5\",\"year_6\",\"year_7\",\"year_8\",\n",
    "\"year_9\",\"year_10\",\"year_11\",\"year_12\",\"year_13\",\"year_14\",\"year_15\",\"year_16\"]\n",
    "\n",
    "model = pd.read_csv(curr_dir+'all_car_model_sep_word_to_sql',sep='\\t')\n"
   ]
  },
  {
   "cell_type": "code",
   "execution_count": 6,
   "metadata": {},
   "outputs": [],
   "source": [
    "model.loc[model['gear_box_type'] == '待查','gear_box_type'] = '缺失'"
   ]
  },
  {
   "cell_type": "code",
   "execution_count": 8,
   "metadata": {},
   "outputs": [
    {
     "name": "stdout",
     "output_type": "stream",
     "text": [
      "<class 'pandas.core.frame.DataFrame'>\n",
      "RangeIndex: 60741 entries, 0 to 60740\n",
      "Data columns (total 53 columns):\n",
      "country_id              60741 non-null object\n",
      "manufacturer            60741 non-null object\n",
      "battery_quality_mile    60741 non-null float64\n",
      "battery_quality_time    60741 non-null float64\n",
      "brand_code              60741 non-null object\n",
      "brand_name              60741 non-null object\n",
      "car_body                60741 non-null object\n",
      "cylinder_number         60741 non-null float64\n",
      "driving_mode            60741 non-null object\n",
      "engine_volume_l         60741 non-null float64\n",
      "fuel_form               60741 non-null object\n",
      "gear_box_type           60741 non-null object\n",
      "guide_price             60741 non-null float64\n",
      "height                  60741 non-null float64\n",
      "import_type             60741 non-null object\n",
      "intake_type             60741 non-null object\n",
      "length                  60741 non-null float64\n",
      "level                   60741 non-null object\n",
      "max_power               60741 non-null float64\n",
      "max_torque              60741 non-null float64\n",
      "model_code              60741 non-null object\n",
      "model_name              60741 non-null object\n",
      "quality_mile            60741 non-null float64\n",
      "quality_time            60741 non-null float64\n",
      "rate                    60741 non-null float64\n",
      "rate_count              60741 non-null float64\n",
      "seat_number_top         60741 non-null float64\n",
      "series_code             60741 non-null object\n",
      "series_level            60741 non-null object\n",
      "series_name             60741 non-null object\n",
      "wheel_base              60741 non-null float64\n",
      "width                   60741 non-null float64\n",
      "year                    60741 non-null float64\n",
      "down_market_time        60741 non-null int64\n",
      "production_time         60741 non-null int64\n",
      "shutdown_time           60741 non-null int64\n",
      "time_to_market          60741 non-null int64\n",
      "year_1                  60741 non-null float64\n",
      "year_2                  60741 non-null float64\n",
      "year_3                  60741 non-null float64\n",
      "year_4                  60741 non-null float64\n",
      "year_5                  60741 non-null float64\n",
      "year_6                  60741 non-null float64\n",
      "year_7                  60741 non-null float64\n",
      "year_8                  60741 non-null float64\n",
      "year_9                  60741 non-null float64\n",
      "year_10                 60741 non-null float64\n",
      "year_11                 60741 non-null float64\n",
      "year_12                 60741 non-null float64\n",
      "year_13                 60741 non-null float64\n",
      "year_14                 60741 non-null float64\n",
      "year_15                 60741 non-null float64\n",
      "year_16                 60741 non-null float64\n",
      "dtypes: float64(33), int64(4), object(16)\n",
      "memory usage: 24.6+ MB\n"
     ]
    }
   ],
   "source": [
    "# model_code可能是字符串和数字类型混合，统一成字符串类型\n",
    "model['model_code'] = model['model_code'].astype('str')\n",
    "# 指导价为0的车型剔除\n",
    "model = model[model['guide_price']>0]\n",
    "# 国际档是摩托车，剔除\n",
    "model = model[model['gear_box_type'] != \"国际档\"]\n",
    "model = model.reset_index(drop = True)\n",
    "### 新车型库 上述情况都没有了哦 ～\n",
    "model.info()"
   ]
  },
  {
   "cell_type": "code",
   "execution_count": 9,
   "metadata": {},
   "outputs": [
    {
     "data": {
      "text/plain": [
       "国产    41408\n",
       "进口    19333\n",
       "Name: import_type, dtype: int64"
      ]
     },
     "execution_count": 9,
     "metadata": {},
     "output_type": "execute_result"
    }
   ],
   "source": [
    "# 划分成 “国产” 和 “进口” 两个取值 \n",
    "model.loc[model['import_type']!='国产', 'import_type'] = '进口'\n",
    "model['import_type'].value_counts()\n"
   ]
  },
  {
   "cell_type": "code",
   "execution_count": 10,
   "metadata": {},
   "outputs": [],
   "source": [
    "# # step2: 特征处理，合并一些特征\n",
    "# def feature_handle(tar):\n",
    "    \n",
    "#     if(tar['driving_mode'] == \"其他\"):\n",
    "#         tar['driving_mode'] = \"缺失\"  \n",
    "#     if (tar['intake_type'] == \"其他\"):\n",
    "#         tar['intake_type'] = \"缺失\"\n",
    "#     return tar\n",
    "\n",
    "# model1 = model.apply(feature_handle, axis = 1)\n",
    "model1 = model.copy()\n",
    "model1['year'] = model1['year'].astype('int')\n",
    "model1['guide_price'] = model1['guide_price']/10000\n",
    "model1['wheel_base'] = model1['wheel_base']/1000\n",
    "model1['length'] = model1['length']/1000\n",
    "model1['height'] = model1['height']/1000\n",
    "model1['width'] = model1['width']/1000\n",
    "model1['max_torque'] = model1['max_torque']/100\n",
    "model1['max_power'] = model1['max_power']/100"
   ]
  },
  {
   "cell_type": "code",
   "execution_count": 11,
   "metadata": {},
   "outputs": [
    {
     "name": "stdout",
     "output_type": "stream",
     "text": [
      "<class 'pandas.core.frame.DataFrame'>\n",
      "RangeIndex: 60741 entries, 0 to 60740\n",
      "Data columns (total 41 columns):\n",
      "model_code         60741 non-null object\n",
      "model_year         60741 non-null int64\n",
      "new_car_price      60741 non-null float64\n",
      "wheel_base         60741 non-null float64\n",
      "length             60741 non-null float64\n",
      "height             60741 non-null float64\n",
      "width              60741 non-null float64\n",
      "max_torque         60741 non-null float64\n",
      "max_power          60741 non-null float64\n",
      "engine_volume_l    60741 non-null float64\n",
      "cylinder_number    60741 non-null float64\n",
      "driving_mode       60741 non-null object\n",
      "gear_box_type      60741 non-null object\n",
      "country_id         60741 non-null object\n",
      "import_type        60741 non-null object\n",
      "intake_type        60741 non-null object\n",
      "fuel_form          60741 non-null object\n",
      "series_level       60741 non-null object\n",
      "level              60741 non-null object\n",
      "seat_number_top    60741 non-null float64\n",
      "quality_mile       60741 non-null float64\n",
      "quality_year       60741 non-null float64\n",
      "year_1             60741 non-null float64\n",
      "year_2             60741 non-null float64\n",
      "year_3             60741 non-null float64\n",
      "year_4             60741 non-null float64\n",
      "year_5             60741 non-null float64\n",
      "year_6             60741 non-null float64\n",
      "year_7             60741 non-null float64\n",
      "year_8             60741 non-null float64\n",
      "year_9             60741 non-null float64\n",
      "year_10            60741 non-null float64\n",
      "year_11            60741 non-null float64\n",
      "year_12            60741 non-null float64\n",
      "year_13            60741 non-null float64\n",
      "year_14            60741 non-null float64\n",
      "year_15            60741 non-null float64\n",
      "year_16            60741 non-null float64\n",
      "car_body           60741 non-null object\n",
      "rate               60741 non-null float64\n",
      "rate_count         60741 non-null float64\n",
      "dtypes: float64(30), int64(1), object(10)\n",
      "memory usage: 19.0+ MB\n"
     ]
    }
   ],
   "source": [
    "# 获取车型级别\n",
    "model1['level'] = list(map(lambda x: x.split('-')[0], model1['series_level']))\n",
    "# 将 “Mini Bus” 合并到 “A00”\n",
    "model1.loc[model1['level'] == \"Mini Bus\", 'level'] = \"A00\"\n",
    "# 未使用 'Manufacturer', 'battery_quality_mile', 'battery_quality_time', 'brand_code', 'brand_name', 'car_body',\n",
    "# 'model_name','rate', 'rate_count',\n",
    "#'year_1', 'year_2', 'year_3','year_4', 'year_5', 'year_6', 'year_7', 'year_8', 'year_9', 'year_10',\n",
    "#'year_11', 'year_12', 'year_13', 'year_14', 'year_15', 'year_16'\n",
    "model_save = model1[['model_code', 'year',  'guide_price', 'wheel_base', 'length', 'height',\n",
    "                     'width', 'max_torque', 'max_power', 'engine_volume_l', 'cylinder_number',\n",
    "                     'driving_mode', 'gear_box_type',  'country_id', 'import_type', 'intake_type',\n",
    "                     'fuel_form', 'series_level', 'level', 'seat_number_top', 'quality_mile',\n",
    "                     'quality_time', 'year_1', 'year_2', 'year_3', 'year_4', 'year_5', 'year_6',\n",
    "                     'year_7', 'year_8', 'year_9', 'year_10', 'year_11', 'year_12', 'year_13', \n",
    "                     'year_14', 'year_15', 'year_16','car_body','rate','rate_count']]\n",
    "\n",
    "model_save = model_save.rename(columns={\"year\": \"model_year\",\n",
    "                                        \"guide_price\": \"new_car_price\",\n",
    "                                        \"quality_time\": \"quality_year\"})\n",
    "model_save.info()"
   ]
  },
  {
   "cell_type": "code",
   "execution_count": 12,
   "metadata": {},
   "outputs": [],
   "source": [
    "data_filter = {\n",
    "'driving_mode':['中置前驱','中置后驱','中置四驱','前置前驱','前置后驱','前置四驱','双电机四驱','后置后驱','后置四驱'],\n",
    "'gear_box_type' : ['E-CVT+自动变速箱','ISR变速箱','双离合变速箱(DCT)','固定齿比变速箱','序列变速箱(AMT)','手动变速箱(MT)','无级变速箱(CVT)','机械式自动变速箱(AMT)','电子无级变速箱(E-CVT)','自动变速箱(AT)'],\n",
    "'country_id' : ['AMERICA','CHINA','CZECH','ENGLAND','FRENCH','GERMANY','ITALIA','JAPAN','KOREA','NETHERLANDS','ROMANIA','ROSSIA','SPAIN','SWEDEN'],\n",
    "'import_type' : ['国产', '进口'],\n",
    "'intake_type' : ['双涡轮增压', '四涡轮增压','机械+涡轮增压', '机械增压', '涡轮增压', '自然吸气','无'],\n",
    "'fuel_form' : ['增程式', '插电式混合动力', '柴油', '汽油', '汽油+48V轻混系统', '油气混合', '油电混合', '纯电动'],\n",
    "'level' : ['A', 'A0', 'A00', 'B', 'BUS', 'C', 'D', 'E'],\n",
    "'car_body' :['MPV','SUV','三厢车','两厢车','客车','掀背车','旅行车','皮卡','硬顶敞篷车','硬顶跑车','软顶敞篷车'],\n",
    "'series_level' : ['B-M SUV', 'A0-H SUV', 'A-H MPV', 'D-Top', 'D-H', 'C-Lux SUV', 'A00-M', 'A-H SUV', 'B-Lux', 'B-H', 'A-L', 'C-H SUV', 'B-M MPV', 'A0-H MPV', 'C-H', 'A0-L SUV', 'A0-L', 'B-H MPV', 'A-M MPV', 'B-L SUV', 'A00-H SUV', 'C-Lux MPV', 'A-Lux', 'A00-H', 'A-L MPV', 'A-M', 'A0-M', 'A0-Lux SUV', 'B-Top', 'D-Lux', 'A00-L SUV', 'C-H MPV', 'D-H SUV', 'A-L SUV ', 'A0-L MPV', 'B-L MPV', 'C-Top', 'A0-Lux', 'Mini Bus', 'D-Lux MPV', 'D-Top SUV', 'B-L', 'A-H', 'A00-L MPV', 'A0-Lux MPV', 'A-L SUV', 'E-Top', 'A00-Lux', 'B-M', 'B-H SUV', 'A00-L', 'BUS', 'B-Lux MPV', 'D-Lux SUV', 'A-M SUV', 'B-Lux SUV', 'A0-M SUV', 'A-Lux MPV', 'A0-H', 'A0-M MPV', 'C-Lux', 'A-Lux SUV']\n",
    "}\n",
    "\n",
    "for col,col_value in data_filter.items():\n",
    "    model_save.loc[~model_save[col].isin(col_value),col] = '缺失'"
   ]
  },
  {
   "cell_type": "code",
   "execution_count": 13,
   "metadata": {},
   "outputs": [],
   "source": [
    "# 该函数的作用是 将变量进行onehot 处理\n",
    "from sklearn import preprocessing\n",
    "def feature_onehot(traindata, feature_list):\n",
    "    for feature in feature_list:\n",
    "        le = preprocessing.LabelEncoder()\n",
    "        le.fit(traindata[[feature]])\n",
    "        traindata[feature+\"_tem\"] = le.transform(traindata[[feature]])\n",
    "        enc = preprocessing.OneHotEncoder()\n",
    "        enc.fit(traindata[[feature+\"_tem\"]])\n",
    "        pro_onehot = enc.transform(traindata[[feature+\"_tem\"]]).toarray()\n",
    "        for i in range(0,pro_onehot.shape[1]):\n",
    "            traindata[feature+str(i)] = pro_onehot[:,i]\n",
    "        traindata = traindata.drop([feature+\"_tem\"],axis=1)\n",
    "    return traindata\n",
    "feature_list = [\"driving_mode\", \"gear_box_type\", \"country_id\", \n",
    "                \"import_type\", \"intake_type\", \"fuel_form\", \"level\",'car_body','series_level']\n",
    "model_save = feature_onehot(model_save, feature_list)"
   ]
  },
  {
   "cell_type": "code",
   "execution_count": 14,
   "metadata": {},
   "outputs": [],
   "source": [
    "# 保存版本车型数据\n",
    "model_save.to_csv(curr_dir+\"2021-02-02版车型参数及独热编码.csv\", header=True, index=False)"
   ]
  }
 ],
 "metadata": {
  "kernelspec": {
   "display_name": "Python 3",
   "language": "python",
   "name": "python3"
  },
  "language_info": {
   "codemirror_mode": {
    "name": "ipython",
    "version": 3
   },
   "file_extension": ".py",
   "mimetype": "text/x-python",
   "name": "python",
   "nbconvert_exporter": "python",
   "pygments_lexer": "ipython3",
   "version": "3.5.2"
  }
 },
 "nbformat": 4,
 "nbformat_minor": 2
}

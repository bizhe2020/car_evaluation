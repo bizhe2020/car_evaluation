{
 "cells": [
  {
   "cell_type": "code",
   "execution_count": 1,
   "metadata": {
    "ExecuteTime": {
     "end_time": "2020-03-31T09:08:44.850000Z",
     "start_time": "2020-03-31T09:08:43.904042Z"
    }
   },
   "outputs": [],
   "source": [
    "# -*- coding: utf-8 -*-\n",
    "import warnings\n",
    "warnings.filterwarnings('ignore')\n",
    "\n",
    "import csv, math\n",
    "import numpy as np\n",
    "import pandas as pd\n",
    "import matplotlib.pyplot as plt\n",
    "from sklearn.utils import shuffle\n",
    "from sklearn.externals import joblib\n",
    "from sklearn.preprocessing import OneHotEncoder\n",
    "from sklearn.ensemble import RandomForestRegressor\n",
    "from sklearn.ensemble import GradientBoostingRegressor\n",
    "\n",
    "pd.set_option('display.max_columns', 500)\n",
    "curr_dir = '/home/souche/qiongjiu/hgc/'"
   ]
  },
  {
   "cell_type": "code",
   "execution_count": 2,
   "metadata": {
    "ExecuteTime": {
     "end_time": "2020-03-31T09:10:07.271032Z",
     "start_time": "2020-03-31T09:09:40.849173Z"
    }
   },
   "outputs": [
    {
     "name": "stdout",
     "output_type": "stream",
     "text": [
      "<class 'pandas.core.frame.DataFrame'>\n",
      "RangeIndex: 1701843 entries, 0 to 1701842\n",
      "Data columns (total 61 columns):\n",
      "car_id                      1701843 non-null int64\n",
      "brand_code                  1701606 non-null object\n",
      "brand_name                  1701606 non-null object\n",
      "series_code                 1701606 non-null object\n",
      "series_name                 1701606 non-null object\n",
      "model_code                  1701843 non-null object\n",
      "model_name                  1701606 non-null object\n",
      "mileage_std                 1701843 non-null float64\n",
      "color_name                  1701766 non-null object\n",
      "first_license_plate_date    1701843 non-null object\n",
      "province_name               1701843 non-null object\n",
      "city_name                   1701843 non-null object\n",
      "price                       1701843 non-null float64\n",
      "pay_time                    1701843 non-null object\n",
      "license_month               1701843 non-null int64\n",
      "residual                    1701843 non-null float64\n",
      "days                        1701843 non-null int64\n",
      "license_year                1701843 non-null int64\n",
      "model_year                  1701843 non-null int64\n",
      "new_car_price               1701843 non-null float64\n",
      "rate                        1701843 non-null float64\n",
      "rate_count                  1701843 non-null float64\n",
      "per_mile                    1701843 non-null float64\n",
      "year_err                    1701843 non-null int64\n",
      "province_name0              1701843 non-null int64\n",
      "province_name1              1701843 non-null int64\n",
      "province_name2              1701843 non-null int64\n",
      "province_name3              1701843 non-null int64\n",
      "province_name4              1701843 non-null int64\n",
      "province_name5              1701843 non-null int64\n",
      "province_name6              1701843 non-null int64\n",
      "province_name7              1701843 non-null int64\n",
      "province_name8              1701843 non-null int64\n",
      "province_name9              1701843 non-null int64\n",
      "province_name10             1701843 non-null int64\n",
      "province_name11             1701843 non-null int64\n",
      "province_name12             1701843 non-null int64\n",
      "province_name13             1701843 non-null int64\n",
      "province_name14             1701843 non-null int64\n",
      "province_name15             1701843 non-null int64\n",
      "province_name16             1701843 non-null int64\n",
      "province_name17             1701843 non-null int64\n",
      "province_name18             1701843 non-null int64\n",
      "province_name19             1701843 non-null int64\n",
      "province_name20             1701843 non-null int64\n",
      "province_name21             1701843 non-null int64\n",
      "province_name22             1701843 non-null int64\n",
      "province_name23             1701843 non-null int64\n",
      "province_name24             1701843 non-null int64\n",
      "province_name25             1701843 non-null int64\n",
      "province_name26             1701843 non-null int64\n",
      "province_name27             1701843 non-null int64\n",
      "province_name28             1701843 non-null int64\n",
      "province_name29             1701843 non-null int64\n",
      "province_name30             1701843 non-null int64\n",
      "keep_value                  1701843 non-null float64\n",
      "quality                     1701843 non-null int64\n",
      "mile_log                    1701843 non-null float64\n",
      "license_month_log           1701843 non-null float64\n",
      "new_car_price_log           1701843 non-null float64\n",
      "count                       1701843 non-null int64\n",
      "dtypes: float64(11), int64(39), object(11)\n",
      "memory usage: 792.0+ MB\n"
     ]
    }
   ],
   "source": [
    "data = pd.read_csv(curr_dir+\"2020-11-02版带count处理完成的零售数据m.csv\", header = 0, low_memory=False)\n",
    "data.info(null_counts = True)"
   ]
  },
  {
   "cell_type": "code",
   "execution_count": 7,
   "metadata": {
    "ExecuteTime": {
     "end_time": "2020-03-29T16:15:14.997700Z",
     "start_time": "2020-03-29T16:15:13.617487Z"
    }
   },
   "outputs": [],
   "source": [
    "car = pd.read_csv(curr_dir+\"2020-11-02版车型参数及独热编码.csv\", header = 0, low_memory=False)\n",
    "car=car.drop(['model_year','new_car_price', 'driving_mode','gear_box_type','country_id',\n",
    " 'import_type','intake_type', 'fuel_form','quality_mile', 'quality_year',\n",
    " 'year_1','year_2','year_3','year_4','year_5','year_6','year_7','year_8',\n",
    " 'year_9', 'year_10','year_11','year_12','year_13','year_14','year_15',\n",
    " 'year_16', 'car_body','rate','rate_count'],axis=1)\n",
    "\n",
    "#print(car.shape)"
   ]
  },
  {
   "cell_type": "code",
   "execution_count": 8,
   "metadata": {
    "ExecuteTime": {
     "end_time": "2020-03-29T16:15:28.947771Z",
     "start_time": "2020-03-29T16:15:20.698399Z"
    }
   },
   "outputs": [],
   "source": [
    "data = pd.merge(data, car, how=\"inner\", on=\"model_code\")\n",
    "vec = pd.read_csv(curr_dir+\"2020-11-02版-TF-IDF权重的词向量.csv\", dtype={'model_code': str}, header = 0)\n",
    "vec = vec.drop(['model_name'], axis=1)"
   ]
  },
  {
   "cell_type": "code",
   "execution_count": 9,
   "metadata": {},
   "outputs": [],
   "source": [
    "data = pd.merge(data, vec, how=\"inner\", on=\"model_code\")\n",
    "#print(data.shape)"
   ]
  },
  {
   "cell_type": "code",
   "execution_count": 10,
   "metadata": {
    "ExecuteTime": {
     "end_time": "2020-03-30T04:59:11.569477Z",
     "start_time": "2020-03-30T04:59:08.230618Z"
    }
   },
   "outputs": [
    {
     "name": "stdout",
     "output_type": "stream",
     "text": [
      "筛选出A级以下的车数据量为:871149\n",
      "筛选出A级以下的车的model_code为:18371\n",
      "包含的车型级别: ['A0' 'A' 'A00' '缺失']\n"
     ]
    }
   ],
   "source": [
    "data_A = data[(data['level']==\"缺失\") | \n",
    "              (data['level']==\"A00\") | \n",
    "              (data['level']==\"A0\") | \n",
    "              (data['level']==\"A\")]\n",
    "print(\"筛选出A级以下的车数据量为:%d\" % data_A.shape[0])\n",
    "print(\"筛选出A级以下的车的model_code为:%d\" % len(data_A['model_code'].unique()))\n",
    "print(\"包含的车型级别:\", data_A['level'].unique())"
   ]
  },
  {
   "cell_type": "code",
   "execution_count": 12,
   "metadata": {
    "ExecuteTime": {
     "end_time": "2020-03-30T04:59:24.690810Z",
     "start_time": "2020-03-30T04:59:22.620134Z"
    }
   },
   "outputs": [
    {
     "name": "stdout",
     "output_type": "stream",
     "text": [
      "(871149, 282) 871149\n"
     ]
    }
   ],
   "source": [
    "data_X = data_A.drop(['car_id', 'brand_code', 'brand_name', 'series_code', \n",
    "                          'series_name', 'model_code', 'model_name',  'color_name', \n",
    "                          'first_license_plate_date', 'province_name', 'city_name', \n",
    "                          'price', 'pay_time', 'residual', 'mileage_std', 'license_month', \n",
    "                          'new_car_price', 'count', 'series_level', 'level','level0','level1',\n",
    "                          'level2','level3','level4','level5','level6','level7','level8'], axis=1)\n",
    "data_y = data_A['residual']\n",
    "\n",
    "print(data_X.shape, len(data_y))\n"
   ]
  },
  {
   "cell_type": "code",
   "execution_count": 13,
   "metadata": {},
   "outputs": [],
   "source": [
    "for col in ['ypred', 'err']:\n",
    "    if col in data_X.columns:\n",
    "        del data_X[col]"
   ]
  },
  {
   "cell_type": "code",
   "execution_count": 15,
   "metadata": {
    "ExecuteTime": {
     "end_time": "2020-03-29T16:29:15.906769Z",
     "start_time": "2020-03-29T16:17:36.897572Z"
    }
   },
   "outputs": [
    {
     "data": {
      "text/plain": [
       "LGBMRegressor(boosting_type='gbdt', class_weight=None, colsample_bytree=0.3,\n",
       "       learning_rate=0.03, max_depth=9, min_child_samples=50,\n",
       "       min_child_weight=0.001, min_split_gain=0.0, n_estimators=3000,\n",
       "       n_jobs=8, num_leaves=200, objective='regression', random_state=None,\n",
       "       reg_alpha=0.0, reg_lambda=0.0, silent=True, subsample=1,\n",
       "       subsample_for_bin=200000, subsample_freq=0, verbose=1)"
      ]
     },
     "execution_count": 15,
     "metadata": {},
     "output_type": "execute_result"
    }
   ],
   "source": [
    "import lightgbm as lgb\n",
    "gbm = lgb.LGBMRegressor(boosting_type = 'gbdt', \n",
    "                        objective = 'regression',\n",
    "                        learning_rate = 0.03, \n",
    "                        n_estimators = 3000,\n",
    "                        max_depth = 9,\n",
    "                        num_leaves = 200, \n",
    "                        subsample = 1, \n",
    "                        colsample_bytree = 0.3, \n",
    "                        min_child_samples = 50, \n",
    "                        n_jobs = 8,\n",
    "                        verbose = 1)\n",
    "\n",
    "gbm.fit(data_X, \n",
    "        data_y, \n",
    "        verbose = True)\n",
    "\n"
   ]
  },
  {
   "cell_type": "code",
   "execution_count": 16,
   "metadata": {},
   "outputs": [],
   "source": [
    "fearture_columns = list(data_X.columns)"
   ]
  },
  {
   "cell_type": "code",
   "execution_count": 17,
   "metadata": {
    "ExecuteTime": {
     "end_time": "2020-03-29T16:34:08.790744Z",
     "start_time": "2020-03-29T16:32:22.899300Z"
    }
   },
   "outputs": [
    {
     "data": {
      "text/plain": [
       "(204295, 313)"
      ]
     },
     "execution_count": 17,
     "metadata": {},
     "output_type": "execute_result"
    }
   ],
   "source": [
    "data_A['ypred'] = gbm.predict(data_A[fearture_columns])\n",
    "data_A['err'] = abs(data_A['ypred'] - data_A['residual']) / data_A['residual']\n",
    "data_A[data_A['err']>=0.1].shape\n"
   ]
  },
  {
   "cell_type": "code",
   "execution_count": 19,
   "metadata": {},
   "outputs": [
    {
     "name": "stdout",
     "output_type": "stream",
     "text": [
      "P<3%:  0.3468\n",
      "P<5%:  0.5233\n",
      "P<8%:  0.7013\n",
      "P<10%:  0.7762\n",
      "P<20%:  0.9313\n"
     ]
    }
   ],
   "source": [
    "def data3m_pinggu(data_df,col):\n",
    "    total = data_df.shape[0]\n",
    "    num_3 = data_df.loc[(data_df[col]>=-0.03 ) & (data_df[col]<=0.03 )].shape[0]\n",
    "    print(\"P<3%: \",round(num_3/total,4))\n",
    "    num_5 = data_df.loc[(data_df[col]>=-0.05 ) & (data_df[col]<=0.05 )].shape[0]\n",
    "    print(\"P<5%: \",round(num_5/total,4))\n",
    "    num_8 = data_df.loc[(data_df[col]>=-0.08 ) & (data_df[col]<=0.08 )].shape[0]\n",
    "    print(\"P<8%: \",round(num_8/total,4))\n",
    "    num_10 = data_df.loc[(data_df[col]>=-0.1 ) & (data_df[col]<=0.1 )].shape[0]\n",
    "    print(\"P<10%: \",round(num_10/total,4))\n",
    "    num_20 = data_df.loc[(data_df[col]>=-0.2 ) & (data_df[col]<=0.2 )].shape[0]\n",
    "    print(\"P<20%: \",round(num_20/total,4))\n",
    "data3m_pinggu(data_A.loc[data_A['pay_time'] > '2020-08-01'],'err')\n"
   ]
  },
  {
   "cell_type": "code",
   "execution_count": 25,
   "metadata": {
    "ExecuteTime": {
     "end_time": "2020-03-30T03:15:17.774776Z",
     "start_time": "2020-03-30T03:15:11.030145Z"
    }
   },
   "outputs": [
    {
     "name": "stdout",
     "output_type": "stream",
     "text": [
      "(666854, 282) 666854\n"
     ]
    }
   ],
   "source": [
    "data_A = data_A[data_A['err']<0.1]\n",
    "#打乱数据\n",
    "data_A = shuffle(data_A)\n",
    "\n",
    "data_X = data_A.drop(['car_id', 'brand_code', 'brand_name', 'series_code', \n",
    "                          'series_name', 'model_code', 'model_name',  'color_name', \n",
    "                          'first_license_plate_date', 'province_name', 'city_name', \n",
    "                          'price', 'pay_time', 'residual', 'mileage_std', 'license_month', \n",
    "                          'new_car_price', 'count', 'series_level', 'level','level0','level1',\n",
    "                          'level2','level3','level4','level5','level6','level7','level8','count', 'ypred', 'err'], axis=1)\n",
    "data_y = data_A['residual']\n",
    "print(data_X.shape, len(data_y))\n"
   ]
  },
  {
   "cell_type": "code",
   "execution_count": 27,
   "metadata": {},
   "outputs": [
    {
     "data": {
      "text/plain": [
       "LGBMRegressor(boosting_type='gbdt', class_weight=None, colsample_bytree=0.3,\n",
       "       learning_rate=0.03, max_depth=9, min_child_samples=50,\n",
       "       min_child_weight=0.001, min_split_gain=0.0, n_estimators=3000,\n",
       "       n_jobs=8, num_leaves=200, objective='regression', random_state=None,\n",
       "       reg_alpha=0.0, reg_lambda=0.0, silent=True, subsample=1,\n",
       "       subsample_for_bin=200000, subsample_freq=0, verbose=1)"
      ]
     },
     "execution_count": 27,
     "metadata": {},
     "output_type": "execute_result"
    }
   ],
   "source": [
    "gbm"
   ]
  },
  {
   "cell_type": "code",
   "execution_count": 28,
   "metadata": {
    "ExecuteTime": {
     "end_time": "2020-03-30T03:19:49.576572Z",
     "start_time": "2020-03-30T03:19:42.635347Z"
    }
   },
   "outputs": [
    {
     "name": "stdout",
     "output_type": "stream",
     "text": [
      "Requirement already satisfied: sklearn2pmml in /home/souche/projects/calculation/py3dev_new/lib/python3.5/site-packages (0.39.0)\n",
      "Requirement already satisfied: scikit-learn>=0.18.0 in /home/souche/projects/calculation/py3dev_new/lib/python3.5/site-packages (from sklearn2pmml) (0.20.1)\n",
      "Requirement already satisfied: sklearn-pandas>=0.0.10 in /home/souche/projects/calculation/py3dev_new/lib/python3.5/site-packages (from sklearn2pmml) (1.7.0)\n",
      "Requirement already satisfied: numpy>=1.8.2 in /home/souche/projects/calculation/py3dev_new/lib/python3.5/site-packages (from scikit-learn>=0.18.0->sklearn2pmml) (1.14.5)\n",
      "Requirement already satisfied: scipy>=0.13.3 in /home/souche/projects/calculation/py3dev_new/lib/python3.5/site-packages (from scikit-learn>=0.18.0->sklearn2pmml) (1.1.0)\n",
      "Requirement already satisfied: pandas>=0.11.0 in /home/souche/projects/calculation/py3dev_new/lib/python3.5/site-packages (from sklearn-pandas>=0.0.10->sklearn2pmml) (0.23.4)\n",
      "Requirement already satisfied: python-dateutil>=2.5.0 in /home/souche/projects/calculation/py3dev_new/lib/python3.5/site-packages (from pandas>=0.11.0->sklearn-pandas>=0.0.10->sklearn2pmml) (2.6.1)\n",
      "Requirement already satisfied: pytz>=2011k in /home/souche/projects/calculation/py3dev_new/lib/python3.5/site-packages (from pandas>=0.11.0->sklearn-pandas>=0.0.10->sklearn2pmml) (2017.2)\n",
      "Requirement already satisfied: six>=1.5 in /home/souche/projects/calculation/py3dev_new/lib/python3.5/site-packages (from python-dateutil>=2.5.0->pandas>=0.11.0->sklearn-pandas>=0.0.10->sklearn2pmml) (1.10.0)\n",
      "\u001b[33mWARNING: You are using pip version 20.0.2; however, version 20.2.4 is available.\n",
      "You should consider upgrading via the '/home/souche/projects/calculation/py3dev_new/bin/python3 -m pip install --upgrade pip' command.\u001b[0m\n"
     ]
    }
   ],
   "source": [
    "! pip install sklearn2pmml"
   ]
  },
  {
   "cell_type": "code",
   "execution_count": 29,
   "metadata": {},
   "outputs": [],
   "source": [
    "for i in range(15):\n",
    "    data_X = data_X.rename(columns={\"country_id\"+str(i):\"Country_Id\"+str(i)})\n"
   ]
  },
  {
   "cell_type": "code",
   "execution_count": 31,
   "metadata": {
    "ExecuteTime": {
     "end_time": "2020-03-30T05:11:27.233004Z",
     "start_time": "2020-03-30T04:59:42.362820Z"
    }
   },
   "outputs": [],
   "source": [
    "from sklearn2pmml.pipeline import PMMLPipeline\n",
    "from sklearn2pmml import sklearn2pmml\n",
    "import lightgbm as lgb\n",
    "\n",
    "pipeline = PMMLPipeline([(\"regressor\", lgb.LGBMRegressor(boosting_type = 'gbdt', \n",
    "                        objective = 'regression',\n",
    "                        learning_rate = 0.03, \n",
    "                        n_estimators = 3000,\n",
    "                        max_depth = 9,\n",
    "                        num_leaves = 200, \n",
    "                        subsample = 1, \n",
    "                        colsample_bytree = 0.3, \n",
    "                        min_child_samples = 50, \n",
    "                        n_jobs = 8,\n",
    "                        verbose = 1))])\n",
    "pipeline.fit(data_X, data_y)\n",
    "\n",
    "ph = curr_dir+\"enterprise2_AAA_level_dfc_retail.pmml\"\n",
    "sklearn2pmml(pipeline, ph, with_repr = True)\n"
   ]
  },
  {
   "cell_type": "code",
   "execution_count": 30,
   "metadata": {
    "ExecuteTime": {
     "end_time": "2020-03-30T05:11:39.282311Z",
     "start_time": "2020-03-30T05:11:38.564806Z"
    }
   },
   "outputs": [
    {
     "data": {
      "text/plain": [
       "['/home/souche/qiongjiu/hgc/A_level_dfc_retail_model_test_2020-11-02_']"
      ]
     },
     "execution_count": 30,
     "metadata": {},
     "output_type": "execute_result"
    }
   ],
   "source": [
    "joblib.dump(pipeline,curr_dir+'A_level_dfc_retail_model_test_2020-11-02_')\n"
   ]
  },
  {
   "cell_type": "code",
   "execution_count": 31,
   "metadata": {},
   "outputs": [
    {
     "name": "stdout",
     "output_type": "stream",
     "text": [
      "DAYU_HOME : /home/souche/projects/datacenter-etl-v2\n",
      "[2020-11-11 14:58:59,265] {driver:120} INFO - Generating grammar tables from /usr/lib/python3.5/lib2to3/Grammar.txt\n",
      "[2020-11-11 14:58:59,292] {driver:120} INFO - Generating grammar tables from /usr/lib/python3.5/lib2to3/PatternGrammar.txt\n",
      "[2020-11-11 14:59:01,624] {oss_hook:28} INFO - Done. Loaded the key algorithm/qiongjiu/valuation/2020-11-02_/enterprise2_AAA_level_dfc_retail.pmml .\n"
     ]
    }
   ],
   "source": [
    "# 上传到 oss上 \n",
    "ph = curr_dir+\"enterprise2_AAA_level_dfc_retail.pmml\"\n",
    "from dayu.hooks.oss_hook import OSSHook\n",
    "oss = OSSHook(\"oss_algorithm\")\n",
    "oss.put_file(\"algorithm/qiongjiu/valuation/2020-11-02_/enterprise2_AAA_level_dfc_retail.pmml\", ph)\n"
   ]
  },
  {
   "cell_type": "code",
   "execution_count": 32,
   "metadata": {},
   "outputs": [
    {
     "name": "stdout",
     "output_type": "stream",
     "text": [
      "[2020-11-11 14:59:03,104] {oss_hook:28} INFO - Done. Loaded the key algorithm/qiongjiu/valuation/2020-11-02_/A_level_dfc_retail_model_test_2020-11-02 .\n"
     ]
    }
   ],
   "source": [
    "# 上传到 oss上 \n",
    "ph = curr_dir+\"A_level_dfc_retail_model_test_2020-11-02_\"\n",
    "from dayu.hooks.oss_hook import OSSHook\n",
    "oss = OSSHook(\"oss_algorithm\")\n",
    "oss.put_file(\"algorithm/qiongjiu/valuation/2020-11-02_/A_level_dfc_retail_model_test_2020-11-02\", ph)\n"
   ]
  },
  {
   "cell_type": "code",
   "execution_count": null,
   "metadata": {},
   "outputs": [],
   "source": []
  }
 ],
 "metadata": {
  "kernelspec": {
   "display_name": "Python 3",
   "language": "python",
   "name": "python3"
  },
  "language_info": {
   "codemirror_mode": {
    "name": "ipython",
    "version": 3
   },
   "file_extension": ".py",
   "mimetype": "text/x-python",
   "name": "python",
   "nbconvert_exporter": "python",
   "pygments_lexer": "ipython3",
   "version": "3.5.2"
  },
  "toc": {
   "base_numbering": 1,
   "nav_menu": {},
   "number_sections": true,
   "sideBar": true,
   "skip_h1_title": false,
   "title_cell": "Table of Contents",
   "title_sidebar": "Contents",
   "toc_cell": false,
   "toc_position": {},
   "toc_section_display": true,
   "toc_window_display": false
  },
  "varInspector": {
   "cols": {
    "lenName": 16,
    "lenType": 16,
    "lenVar": 40
   },
   "kernels_config": {
    "python": {
     "delete_cmd_postfix": "",
     "delete_cmd_prefix": "del ",
     "library": "var_list.py",
     "varRefreshCmd": "print(var_dic_list())"
    },
    "r": {
     "delete_cmd_postfix": ") ",
     "delete_cmd_prefix": "rm(",
     "library": "var_list.r",
     "varRefreshCmd": "cat(var_dic_list()) "
    }
   },
   "types_to_exclude": [
    "module",
    "function",
    "builtin_function_or_method",
    "instance",
    "_Feature"
   ],
   "window_display": false
  }
 },
 "nbformat": 4,
 "nbformat_minor": 2
}

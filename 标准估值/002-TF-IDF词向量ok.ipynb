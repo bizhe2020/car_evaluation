{
 "cells": [
  {
   "cell_type": "code",
   "execution_count": 1,
   "metadata": {
    "ExecuteTime": {
     "end_time": "2020-03-23T08:55:50.261740Z",
     "start_time": "2020-03-23T08:55:49.843221Z"
    }
   },
   "outputs": [],
   "source": [
    "import jieba\n",
    "import pymysql\n",
    "import word2vec\n",
    "import numpy as np\n",
    "import pandas as pd\n",
    "\n",
    "import warnings\n",
    "warnings.filterwarnings('ignore')\n",
    "curr_dir = '/home/souche/qiongjiu/hgc/'"
   ]
  },
  {
   "cell_type": "code",
   "execution_count": 2,
   "metadata": {
    "ExecuteTime": {
     "end_time": "2020-03-23T08:56:30.445381Z",
     "start_time": "2020-03-23T08:56:28.918987Z"
    }
   },
   "outputs": [],
   "source": [
    "# 首先读取车型的TF-IDF值, 以及车型名称\n",
    "# 需要从数据库读取相关的数据\n",
    "car_data_columns= [\"model_code\",\"model_name\",\"value\"]\n",
    "tf = pd.read_csv(curr_dir+'tfidf_to_sql',header=None,sep='\\t',names=car_data_columns)\n",
    "\n",
    "car_data_columns= [\"country_id\",\"manufacturer\",\"battery_quality_mile\",\"battery_quality_time\",\"brand_code\",\"brand_name\",\"car_body\",\n",
    "\"cylinder_number\",\"driving_mode\",\"engine_volume_l\",\"fuel_form\",\"gear_box_type\",\"guide_price\",\"height\",\"import_type\",\n",
    "\"intake_type\",\"length\",\"level\",\"max_power\",\"max_torque\",\"model_code\",\"model_name\",\"quality_mile\",\"quality_time\",\"rate\",\n",
    "\"rate_count\",\"seat_number_top\",\"series_code\",\"series_level\",\"series_name\",\"wheel_base\",\"width\",\"year\",\"down_market_time\",\n",
    "\"production_time\",\"shutdown_time\",\"time_to_market\",\"year_1\",\"year_2\",\"year_3\",\"year_4\",\"year_5\",\"year_6\",\"year_7\",\"year_8\",\n",
    "\"year_9\",\"year_10\",\"year_11\",\"year_12\",\"year_13\",\"year_14\",\"year_15\",\"year_16\"]\n",
    "model = pd.read_csv(curr_dir+'all_car_model_sep_word_to_sql',header=None,sep='\\t',names=car_data_columns)\n",
    "model_name = model[['model_code','model_name']]\n"
   ]
  },
  {
   "cell_type": "code",
   "execution_count": 3,
   "metadata": {
    "ExecuteTime": {
     "end_time": "2020-03-23T08:56:32.300313Z",
     "start_time": "2020-03-23T08:56:32.270467Z"
    }
   },
   "outputs": [
    {
     "name": "stdout",
     "output_type": "stream",
     "text": [
      "<class 'pandas.core.frame.DataFrame'>\n",
      "RangeIndex: 60741 entries, 0 to 60740\n",
      "Data columns (total 3 columns):\n",
      "model_code    60741 non-null object\n",
      "model_name    60741 non-null object\n",
      "value         60741 non-null object\n",
      "dtypes: object(3)\n",
      "memory usage: 1.4+ MB\n"
     ]
    }
   ],
   "source": [
    "tf.info()"
   ]
  },
  {
   "cell_type": "code",
   "execution_count": 4,
   "metadata": {
    "ExecuteTime": {
     "end_time": "2020-03-23T08:57:05.997393Z",
     "start_time": "2020-03-23T08:57:05.889106Z"
    }
   },
   "outputs": [],
   "source": [
    "tf['model_code'] = tf['model_code'].astype('str')\n",
    "model_name['model_code'] = model_name['model_code'].astype('str')\n",
    "tf = tf.rename(columns={\"model_name\": \"model_name_list\"})\n",
    "data = pd.merge(tf, model_name, how='inner', on='model_code')\n",
    "#data.info()"
   ]
  },
  {
   "cell_type": "code",
   "execution_count": 5,
   "metadata": {
    "ExecuteTime": {
     "end_time": "2020-03-23T08:58:17.973999Z",
     "start_time": "2020-03-23T08:58:17.911663Z"
    }
   },
   "outputs": [
    {
     "name": "stdout",
     "output_type": "stream",
     "text": [
      "<class 'pandas.core.frame.DataFrame'>\n",
      "RangeIndex: 60741 entries, 0 to 60740\n",
      "Data columns (total 4 columns):\n",
      "model_code         60741 non-null object\n",
      "model_name_list    60741 non-null object\n",
      "value              60741 non-null object\n",
      "model_name         60741 non-null object\n",
      "dtypes: object(4)\n",
      "memory usage: 1.9+ MB\n"
     ]
    }
   ],
   "source": [
    "from sklearn.utils import shuffle\n",
    "data = shuffle(data)\n",
    "data = data.reset_index(drop=True)\n",
    "data.info()"
   ]
  },
  {
   "cell_type": "code",
   "execution_count": 6,
   "metadata": {
    "ExecuteTime": {
     "end_time": "2020-03-23T08:58:35.494874Z",
     "start_time": "2020-03-23T08:58:29.042523Z"
    }
   },
   "outputs": [],
   "source": [
    "import re\n",
    "file_name = \"tf_idf_model_name_split_word.txt\"\n",
    "\n",
    "with open(file_name, 'w', encoding='utf-8') as f:\n",
    "    for _,tar in data.iterrows():\n",
    "        model_name_list = re.split(r'\\s+', tar['model_name'].strip())\n",
    "        for eachseg in model_name_list:\n",
    "            f.write(\"%s \" % eachseg.strip())\n"
   ]
  },
  {
   "cell_type": "code",
   "execution_count": 7,
   "metadata": {
    "ExecuteTime": {
     "end_time": "2020-03-23T08:59:32.540011Z",
     "start_time": "2020-03-23T08:59:30.340499Z"
    }
   },
   "outputs": [
    {
     "name": "stdout",
     "output_type": "stream",
     "text": [
      "Starting training using file tf_idf_model_name_split_word.txt\n",
      "Vocab size: 9263\n",
      "Words in train file: 529061\n",
      "Alpha: 0.000002  Progress: 100.82%  Words/thread/sec: 315.95k  "
     ]
    },
    {
     "data": {
      "text/plain": [
       "(9263, 100)"
      ]
     },
     "execution_count": 7,
     "metadata": {},
     "output_type": "execute_result"
    }
   ],
   "source": [
    "#100维 \n",
    "word2vec.word2vec('tf_idf_model_name_split_word.txt', \n",
    "                  'tf_idf_model_name.bin', \n",
    "                  size = 100, \n",
    "                  window = 5, \n",
    "                  min_count = 1, \n",
    "                  verbose = True)\n",
    "\n",
    "model_100 = word2vec.load('tf_idf_model_name.bin')\n",
    "model_100.vectors.shape"
   ]
  },
  {
   "cell_type": "code",
   "execution_count": 8,
   "metadata": {
    "ExecuteTime": {
     "end_time": "2020-03-23T10:26:57.721685Z",
     "start_time": "2020-03-23T09:00:02.286052Z"
    }
   },
   "outputs": [],
   "source": [
    "# TF-IDF作为权重的词向量\n",
    "# 将所有词的词向量加权平均后作为model_name的表示\n",
    "def getmodelnameVec(modelname, tfidf):\n",
    "    #seg_list = modelname.strip().split(' ')\n",
    "    seg_list = re.split(r'[\\s]+', modelname.strip())\n",
    "    weight_list = [float(x) for x in tfidf.strip('[]').split(',')]\n",
    "    resvec = np.linspace(0, 0, 100)\n",
    "    #i = 0\n",
    "    for i in range(len(seg_list)):\n",
    "        try:\n",
    "            model_100[seg_list[i].strip()]\n",
    "        except Exception as err:\n",
    "            print ('not found the word:', seg_list[i])\n",
    "            continue\n",
    "        resvec = resvec + model_100[seg_list[i].strip()] * weight_list[i]\n",
    "            #i = i + 1\n",
    "    return resvec/sum(weight_list)\n",
    "model_name_vec = pd.DataFrame(list(map(lambda modelname, tfidf:getmodelnameVec(modelname, tfidf),data['model_name'], data['value'])),columns=['wordvec'+str(count) for count in range(0,100,1)])\n",
    "data_new = pd.concat([data,model_name_vec],axis=1)"
   ]
  },
  {
   "cell_type": "code",
   "execution_count": 9,
   "metadata": {},
   "outputs": [
    {
     "data": {
      "text/html": [
       "<div>\n",
       "<style scoped>\n",
       "    .dataframe tbody tr th:only-of-type {\n",
       "        vertical-align: middle;\n",
       "    }\n",
       "\n",
       "    .dataframe tbody tr th {\n",
       "        vertical-align: top;\n",
       "    }\n",
       "\n",
       "    .dataframe thead th {\n",
       "        text-align: right;\n",
       "    }\n",
       "</style>\n",
       "<table border=\"1\" class=\"dataframe\">\n",
       "  <thead>\n",
       "    <tr style=\"text-align: right;\">\n",
       "      <th></th>\n",
       "      <th>model_code</th>\n",
       "      <th>model_name</th>\n",
       "      <th>wordvec0</th>\n",
       "      <th>wordvec1</th>\n",
       "      <th>wordvec2</th>\n",
       "      <th>wordvec3</th>\n",
       "      <th>wordvec4</th>\n",
       "      <th>wordvec5</th>\n",
       "      <th>wordvec6</th>\n",
       "      <th>wordvec7</th>\n",
       "      <th>...</th>\n",
       "      <th>wordvec90</th>\n",
       "      <th>wordvec91</th>\n",
       "      <th>wordvec92</th>\n",
       "      <th>wordvec93</th>\n",
       "      <th>wordvec94</th>\n",
       "      <th>wordvec95</th>\n",
       "      <th>wordvec96</th>\n",
       "      <th>wordvec97</th>\n",
       "      <th>wordvec98</th>\n",
       "      <th>wordvec99</th>\n",
       "    </tr>\n",
       "  </thead>\n",
       "  <tbody>\n",
       "    <tr>\n",
       "      <th>0</th>\n",
       "      <td>43858</td>\n",
       "      <td>2012 江淮 汽车 瑞风M2 1.8 L MT 豪华 运动 5 座</td>\n",
       "      <td>0.119190</td>\n",
       "      <td>0.011224</td>\n",
       "      <td>-0.001500</td>\n",
       "      <td>0.041777</td>\n",
       "      <td>0.045343</td>\n",
       "      <td>0.003906</td>\n",
       "      <td>0.008099</td>\n",
       "      <td>-0.019319</td>\n",
       "      <td>...</td>\n",
       "      <td>-0.087833</td>\n",
       "      <td>0.063792</td>\n",
       "      <td>-0.028972</td>\n",
       "      <td>0.092506</td>\n",
       "      <td>0.022858</td>\n",
       "      <td>0.005506</td>\n",
       "      <td>0.010069</td>\n",
       "      <td>0.125314</td>\n",
       "      <td>0.013541</td>\n",
       "      <td>0.021961</td>\n",
       "    </tr>\n",
       "    <tr>\n",
       "      <th>1</th>\n",
       "      <td>43352</td>\n",
       "      <td>2007 东风 本田 思域 1.3 L 混合 动力</td>\n",
       "      <td>0.001615</td>\n",
       "      <td>0.051149</td>\n",
       "      <td>0.034584</td>\n",
       "      <td>0.005680</td>\n",
       "      <td>0.096276</td>\n",
       "      <td>0.066889</td>\n",
       "      <td>0.028695</td>\n",
       "      <td>-0.082298</td>\n",
       "      <td>...</td>\n",
       "      <td>0.022983</td>\n",
       "      <td>-0.016967</td>\n",
       "      <td>-0.035237</td>\n",
       "      <td>0.009152</td>\n",
       "      <td>0.021280</td>\n",
       "      <td>0.057920</td>\n",
       "      <td>-0.036720</td>\n",
       "      <td>0.099472</td>\n",
       "      <td>-0.085489</td>\n",
       "      <td>0.022000</td>\n",
       "    </tr>\n",
       "    <tr>\n",
       "      <th>2</th>\n",
       "      <td>117662</td>\n",
       "      <td>2011 路虎 进口 揽胜 5.0 V8 SC</td>\n",
       "      <td>-0.023109</td>\n",
       "      <td>-0.043687</td>\n",
       "      <td>-0.056806</td>\n",
       "      <td>-0.109171</td>\n",
       "      <td>-0.024376</td>\n",
       "      <td>0.004217</td>\n",
       "      <td>0.033964</td>\n",
       "      <td>0.009512</td>\n",
       "      <td>...</td>\n",
       "      <td>0.223775</td>\n",
       "      <td>0.096273</td>\n",
       "      <td>-0.066114</td>\n",
       "      <td>0.080903</td>\n",
       "      <td>-0.012162</td>\n",
       "      <td>0.055414</td>\n",
       "      <td>0.000660</td>\n",
       "      <td>0.017783</td>\n",
       "      <td>0.040829</td>\n",
       "      <td>-0.191560</td>\n",
       "    </tr>\n",
       "    <tr>\n",
       "      <th>3</th>\n",
       "      <td>11525-n</td>\n",
       "      <td>2016 斯巴鲁 森林人 2.0 i 时尚 导航</td>\n",
       "      <td>0.052280</td>\n",
       "      <td>-0.002271</td>\n",
       "      <td>0.133933</td>\n",
       "      <td>-0.107789</td>\n",
       "      <td>0.076205</td>\n",
       "      <td>-0.060816</td>\n",
       "      <td>0.080373</td>\n",
       "      <td>-0.027167</td>\n",
       "      <td>...</td>\n",
       "      <td>0.065572</td>\n",
       "      <td>0.098734</td>\n",
       "      <td>0.039020</td>\n",
       "      <td>0.041456</td>\n",
       "      <td>0.115441</td>\n",
       "      <td>0.028278</td>\n",
       "      <td>-0.043797</td>\n",
       "      <td>-0.021796</td>\n",
       "      <td>-0.096256</td>\n",
       "      <td>-0.099791</td>\n",
       "    </tr>\n",
       "    <tr>\n",
       "      <th>4</th>\n",
       "      <td>365842</td>\n",
       "      <td>2021 东风 悦达起亚 起亚K3 1.4 T DCT GTLine 奋斗</td>\n",
       "      <td>0.026885</td>\n",
       "      <td>-0.120051</td>\n",
       "      <td>0.066731</td>\n",
       "      <td>-0.161141</td>\n",
       "      <td>0.014145</td>\n",
       "      <td>-0.001033</td>\n",
       "      <td>0.061640</td>\n",
       "      <td>-0.074332</td>\n",
       "      <td>...</td>\n",
       "      <td>-0.077801</td>\n",
       "      <td>-0.007498</td>\n",
       "      <td>-0.073266</td>\n",
       "      <td>0.096668</td>\n",
       "      <td>0.023627</td>\n",
       "      <td>0.084558</td>\n",
       "      <td>-0.021886</td>\n",
       "      <td>-0.027234</td>\n",
       "      <td>0.094833</td>\n",
       "      <td>0.020672</td>\n",
       "    </tr>\n",
       "  </tbody>\n",
       "</table>\n",
       "<p>5 rows × 102 columns</p>\n",
       "</div>"
      ],
      "text/plain": [
       "  model_code                             model_name  wordvec0  wordvec1  \\\n",
       "0      43858     2012 江淮 汽车 瑞风M2 1.8 L MT 豪华 运动 5 座  0.119190  0.011224   \n",
       "1      43352              2007 东风 本田 思域 1.3 L 混合 动力  0.001615  0.051149   \n",
       "2     117662                2011 路虎 进口 揽胜 5.0 V8 SC -0.023109 -0.043687   \n",
       "3    11525-n               2016 斯巴鲁 森林人 2.0 i 时尚 导航  0.052280 -0.002271   \n",
       "4     365842  2021 东风 悦达起亚 起亚K3 1.4 T DCT GTLine 奋斗  0.026885 -0.120051   \n",
       "\n",
       "   wordvec2  wordvec3  wordvec4  wordvec5  wordvec6  wordvec7    ...      \\\n",
       "0 -0.001500  0.041777  0.045343  0.003906  0.008099 -0.019319    ...       \n",
       "1  0.034584  0.005680  0.096276  0.066889  0.028695 -0.082298    ...       \n",
       "2 -0.056806 -0.109171 -0.024376  0.004217  0.033964  0.009512    ...       \n",
       "3  0.133933 -0.107789  0.076205 -0.060816  0.080373 -0.027167    ...       \n",
       "4  0.066731 -0.161141  0.014145 -0.001033  0.061640 -0.074332    ...       \n",
       "\n",
       "   wordvec90  wordvec91  wordvec92  wordvec93  wordvec94  wordvec95  \\\n",
       "0  -0.087833   0.063792  -0.028972   0.092506   0.022858   0.005506   \n",
       "1   0.022983  -0.016967  -0.035237   0.009152   0.021280   0.057920   \n",
       "2   0.223775   0.096273  -0.066114   0.080903  -0.012162   0.055414   \n",
       "3   0.065572   0.098734   0.039020   0.041456   0.115441   0.028278   \n",
       "4  -0.077801  -0.007498  -0.073266   0.096668   0.023627   0.084558   \n",
       "\n",
       "   wordvec96  wordvec97  wordvec98  wordvec99  \n",
       "0   0.010069   0.125314   0.013541   0.021961  \n",
       "1  -0.036720   0.099472  -0.085489   0.022000  \n",
       "2   0.000660   0.017783   0.040829  -0.191560  \n",
       "3  -0.043797  -0.021796  -0.096256  -0.099791  \n",
       "4  -0.021886  -0.027234   0.094833   0.020672  \n",
       "\n",
       "[5 rows x 102 columns]"
      ]
     },
     "execution_count": 9,
     "metadata": {},
     "output_type": "execute_result"
    }
   ],
   "source": [
    "data_new_save = data_new.drop(['model_name_list', 'value'], axis=1)\n",
    "data_new_save.head()\n"
   ]
  },
  {
   "cell_type": "code",
   "execution_count": 10,
   "metadata": {
    "ExecuteTime": {
     "end_time": "2020-03-24T01:31:18.719810Z",
     "start_time": "2020-03-24T01:31:18.712385Z"
    }
   },
   "outputs": [
    {
     "name": "stdout",
     "output_type": "stream",
     "text": [
      "<class 'pandas.core.frame.DataFrame'>\n",
      "RangeIndex: 60741 entries, 0 to 60740\n",
      "Columns: 102 entries, model_code to wordvec99\n",
      "dtypes: float64(100), object(2)\n",
      "memory usage: 47.3+ MB\n"
     ]
    }
   ],
   "source": [
    "data_new_save.info()"
   ]
  },
  {
   "cell_type": "code",
   "execution_count": 11,
   "metadata": {
    "ExecuteTime": {
     "end_time": "2020-03-24T01:31:42.282840Z",
     "start_time": "2020-03-24T01:31:30.836922Z"
    }
   },
   "outputs": [],
   "source": [
    "# 输出 词向量的文件 \n",
    "data_new_save.to_csv(curr_dir+\"2021-02-02版-TF-IDF权重的词向量.csv\", header=True, index=False)\n"
   ]
  },
  {
   "cell_type": "code",
   "execution_count": null,
   "metadata": {},
   "outputs": [],
   "source": []
  }
 ],
 "metadata": {
  "kernelspec": {
   "display_name": "Python 3",
   "language": "python",
   "name": "python3"
  },
  "language_info": {
   "codemirror_mode": {
    "name": "ipython",
    "version": 3
   },
   "file_extension": ".py",
   "mimetype": "text/x-python",
   "name": "python",
   "nbconvert_exporter": "python",
   "pygments_lexer": "ipython3",
   "version": "3.5.2"
  },
  "toc": {
   "base_numbering": 1,
   "nav_menu": {},
   "number_sections": true,
   "sideBar": true,
   "skip_h1_title": false,
   "title_cell": "Table of Contents",
   "title_sidebar": "Contents",
   "toc_cell": false,
   "toc_position": {},
   "toc_section_display": true,
   "toc_window_display": false
  },
  "varInspector": {
   "cols": {
    "lenName": 16,
    "lenType": 16,
    "lenVar": 40
   },
   "kernels_config": {
    "python": {
     "delete_cmd_postfix": "",
     "delete_cmd_prefix": "del ",
     "library": "var_list.py",
     "varRefreshCmd": "print(var_dic_list())"
    },
    "r": {
     "delete_cmd_postfix": ") ",
     "delete_cmd_prefix": "rm(",
     "library": "var_list.r",
     "varRefreshCmd": "cat(var_dic_list()) "
    }
   },
   "types_to_exclude": [
    "module",
    "function",
    "builtin_function_or_method",
    "instance",
    "_Feature"
   ],
   "window_display": false
  }
 },
 "nbformat": 4,
 "nbformat_minor": 2
}

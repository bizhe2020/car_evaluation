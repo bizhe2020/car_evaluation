{
 "cells": [
  {
   "cell_type": "code",
   "execution_count": 1,
   "metadata": {
    "ExecuteTime": {
     "end_time": "2020-04-01T09:49:32.779686Z",
     "start_time": "2020-04-01T09:49:32.758604Z"
    }
   },
   "outputs": [],
   "source": [
    "import pandas as pd\n",
    "import pymysql\n",
    "curr_dir = '/home/souche/qiongjiu/hgc/'"
   ]
  },
  {
   "cell_type": "code",
   "execution_count": 2,
   "metadata": {
    "ExecuteTime": {
     "end_time": "2020-03-31T06:18:11.735061Z",
     "start_time": "2020-03-31T06:18:10.715831Z"
    }
   },
   "outputs": [
    {
     "name": "stdout",
     "output_type": "stream",
     "text": [
      "<class 'pandas.core.frame.DataFrame'>\n",
      "RangeIndex: 65251 entries, 0 to 65250\n",
      "Data columns (total 3 columns):\n",
      "model_code     65251 non-null object\n",
      "series_code    65251 non-null object\n",
      "brand_code     65251 non-null object\n",
      "dtypes: object(3)\n",
      "memory usage: 1.5+ MB\n"
     ]
    },
    {
     "name": "stderr",
     "output_type": "stream",
     "text": [
      "/home/souche/projects/calculation/py3dev_new/lib/python3.5/site-packages/IPython/core/interactiveshell.py:2785: DtypeWarning: Columns (2,3,7,9,12,13,16,18,19,20,22,23,24,25,26,30,31,32,33,34,35,36,37,38,39,40,41,42,43,44,45,46,47,48,49,50,51,52) have mixed types. Specify dtype option on import or set low_memory=False.\n",
      "  interactivity=interactivity, compiler=compiler, result=result)\n"
     ]
    }
   ],
   "source": [
    "# 读取数据 \n",
    "car_data_columns= [\"country_id\",\"manufacturer\",\"battery_quality_mile\",\"battery_quality_time\",\"brand_code\",\"brand_name\",\"car_body\",\n",
    "\"cylinder_number\",\"driving_mode\",\"engine_volume_l\",\"fuel_form\",\"gear_box_type\",\"guide_price\",\"height\",\"import_type\",\n",
    "\"intake_type\",\"length\",\"level\",\"max_power\",\"max_torque\",\"model_code\",\"model_name\",\"quality_mile\",\"quality_time\",\"rate\",\n",
    "\"rate_count\",\"seat_number_top\",\"series_code\",\"series_level\",\"series_name\",\"wheel_base\",\"width\",\"year\",\"down_market_time\",\n",
    "\"production_time\",\"shutdown_time\",\"time_to_market\",\"year_1\",\"year_2\",\"year_3\",\"year_4\",\"year_5\",\"year_6\",\"year_7\",\"year_8\",\n",
    "\"year_9\",\"year_10\",\"year_11\",\"year_12\",\"year_13\",\"year_14\",\"year_15\",\"year_16\"]\n",
    "q_res = pd.read_csv(curr_dir+'all_car_model_sep_word_to_sql',header=None,sep='\\t',names=car_data_columns)\n",
    "q_res = q_res[['model_code','series_code','brand_code']]\n",
    "q_res.info()"
   ]
  },
  {
   "cell_type": "code",
   "execution_count": 3,
   "metadata": {
    "ExecuteTime": {
     "end_time": "2020-04-01T09:49:37.817252Z",
     "start_time": "2020-04-01T09:49:35.181667Z"
    },
    "scrolled": true
   },
   "outputs": [
    {
     "name": "stdout",
     "output_type": "stream",
     "text": [
      "<class 'pandas.core.frame.DataFrame'>\n",
      "RangeIndex: 65250 entries, 0 to 65249\n",
      "Data columns (total 2 columns):\n",
      "model_code    65250 non-null object\n",
      "level         65250 non-null object\n",
      "dtypes: object(2)\n",
      "memory usage: 1019.6+ KB\n"
     ]
    }
   ],
   "source": [
    "# 读取车辆级别\n",
    "data_level = pd.read_csv(curr_dir+\"iEnterprise2.8_car_parameter_onehot.csv\", header = 0, low_memory=False)\n",
    "data_level = data_level[['model_code','level']]\n",
    "data_level.info()\n",
    "data_level=pd.merge(data_level,q_res,how='left',on='model_code')"
   ]
  },
  {
   "cell_type": "code",
   "execution_count": 4,
   "metadata": {
    "ExecuteTime": {
     "end_time": "2020-04-01T09:49:48.783696Z",
     "start_time": "2020-04-01T09:49:48.683074Z"
    }
   },
   "outputs": [
    {
     "name": "stdout",
     "output_type": "stream",
     "text": [
      "(40573, 4)\n",
      "(24677, 4)\n"
     ]
    }
   ],
   "source": [
    "# A级车、B级车分开\n",
    "data_level_A = data_level[(data_level['level']==\"缺失\") | \n",
    "                          (data_level['level']==\"A00\") | \n",
    "                          (data_level['level']==\"A0\") | \n",
    "                          (data_level['level']==\"A\")]\n",
    "\n",
    "data_level_B = data_level[(data_level['level']==\"B\") | \n",
    "                          (data_level['level']==\"C\") | \n",
    "                          (data_level['level']==\"D\") | \n",
    "                          (data_level['level']==\"E\")]\n",
    "print(data_level_A.shape)\n",
    "print(data_level_B.shape)"
   ]
  },
  {
   "cell_type": "code",
   "execution_count": 5,
   "metadata": {
    "ExecuteTime": {
     "end_time": "2020-04-01T09:49:55.846525Z",
     "start_time": "2020-04-01T09:49:55.796341Z"
    }
   },
   "outputs": [
    {
     "name": "stdout",
     "output_type": "stream",
     "text": [
      "<class 'pandas.core.frame.DataFrame'>\n",
      "RangeIndex: 13454 entries, 0 to 13453\n",
      "Data columns (total 2 columns):\n",
      "model_code    13454 non-null object\n",
      "median_res    13454 non-null float64\n",
      "dtypes: float64(1), object(1)\n",
      "memory usage: 210.3+ KB\n",
      "<class 'pandas.core.frame.DataFrame'>\n",
      "RangeIndex: 8895 entries, 0 to 8894\n",
      "Data columns (total 2 columns):\n",
      "model_code    8895 non-null object\n",
      "median_res    8895 non-null float64\n",
      "dtypes: float64(1), object(1)\n",
      "memory usage: 139.1+ KB\n"
     ]
    }
   ],
   "source": [
    "#读取计算完成的零售数据A级车和B级车的精度\n",
    "retail_A = pd.read_csv(curr_dir+\"2020-11-02采购数据-A级车-误差中位数.csv\", header = 0, low_memory=False)\n",
    "retail_A.info()\n",
    "\n",
    "retail_B = pd.read_csv(curr_dir+\"2020-11-02采购数据-B级车-误差中位数.csv\", header = 0, low_memory=False)\n",
    "retail_B.info()"
   ]
  },
  {
   "cell_type": "code",
   "execution_count": 6,
   "metadata": {
    "ExecuteTime": {
     "end_time": "2020-04-01T09:49:57.078632Z",
     "start_time": "2020-04-01T09:49:56.972700Z"
    }
   },
   "outputs": [
    {
     "name": "stdout",
     "output_type": "stream",
     "text": [
      "<class 'pandas.core.frame.DataFrame'>\n",
      "Int64Index: 40573 entries, 0 to 40572\n",
      "Data columns (total 5 columns):\n",
      "brand_code     31070 non-null object\n",
      "series_code    31070 non-null object\n",
      "model_code     40573 non-null object\n",
      "median_res     13454 non-null float64\n",
      "level          40573 non-null object\n",
      "dtypes: float64(1), object(4)\n",
      "memory usage: 1.9+ MB\n",
      "<class 'pandas.core.frame.DataFrame'>\n",
      "Int64Index: 24677 entries, 0 to 24676\n",
      "Data columns (total 5 columns):\n",
      "brand_code     17796 non-null object\n",
      "series_code    17796 non-null object\n",
      "model_code     24677 non-null object\n",
      "median_res     8895 non-null float64\n",
      "level          24677 non-null object\n",
      "dtypes: float64(1), object(4)\n",
      "memory usage: 1.1+ MB\n"
     ]
    }
   ],
   "source": [
    "data_A = pd.merge(data_level_A, retail_A, how='left', on='model_code')\n",
    "data_B = pd.merge(data_level_B, retail_B, how='left', on='model_code')\n",
    "\n",
    "data_A = data_A[['brand_code', 'series_code', 'model_code', 'median_res', 'level']]\n",
    "data_B = data_B[['brand_code', 'series_code', 'model_code', 'median_res', 'level']]\n",
    "\n",
    "data_A.info()\n",
    "data_B.info()"
   ]
  },
  {
   "cell_type": "code",
   "execution_count": 7,
   "metadata": {
    "ExecuteTime": {
     "end_time": "2020-04-01T09:49:57.531039Z",
     "start_time": "2020-04-01T09:49:57.476866Z"
    }
   },
   "outputs": [],
   "source": [
    "# 按车系填充\n",
    "series_A = pd.DataFrame(columns={'series_code':str, 'median':float})\n",
    "series_A['series_code'] = list(data_A.groupby(['series_code'])['median_res'].mean().index)\n",
    "series_A['median'] = list(data_A.groupby(['series_code'])['median_res'].mean())\n",
    "\n",
    "series_B = pd.DataFrame(columns={'series_code':str, 'median':float})\n",
    "series_B['series_code'] = list(data_B.groupby(['series_code'])['median_res'].mean().index)\n",
    "series_B['median'] = list(data_B.groupby(['series_code'])['median_res'].mean())"
   ]
  },
  {
   "cell_type": "code",
   "execution_count": 8,
   "metadata": {
    "ExecuteTime": {
     "end_time": "2020-04-01T09:49:58.216237Z",
     "start_time": "2020-04-01T09:49:58.103909Z"
    }
   },
   "outputs": [
    {
     "name": "stdout",
     "output_type": "stream",
     "text": [
      "<class 'pandas.core.frame.DataFrame'>\n",
      "Int64Index: 40573 entries, 0 to 40572\n",
      "Data columns (total 6 columns):\n",
      "brand_code     31070 non-null object\n",
      "series_code    31070 non-null object\n",
      "model_code     40573 non-null object\n",
      "median_res     13454 non-null float64\n",
      "level          40573 non-null object\n",
      "median         26263 non-null float64\n",
      "dtypes: float64(2), object(4)\n",
      "memory usage: 2.2+ MB\n",
      "<class 'pandas.core.frame.DataFrame'>\n",
      "Int64Index: 24677 entries, 0 to 24676\n",
      "Data columns (total 6 columns):\n",
      "brand_code     17796 non-null object\n",
      "series_code    17796 non-null object\n",
      "model_code     24677 non-null object\n",
      "median_res     8895 non-null float64\n",
      "level          24677 non-null object\n",
      "median         17003 non-null float64\n",
      "dtypes: float64(2), object(4)\n",
      "memory usage: 1.3+ MB\n"
     ]
    }
   ],
   "source": [
    "data_A = pd.merge(data_A, series_A, how='left', on='series_code')\n",
    "data_A.info()\n",
    "\n",
    "data_B = pd.merge(data_B, series_B, how='left', on='series_code')\n",
    "data_B.info()"
   ]
  },
  {
   "cell_type": "code",
   "execution_count": 9,
   "metadata": {
    "ExecuteTime": {
     "end_time": "2020-04-01T09:50:10.202898Z",
     "start_time": "2020-04-01T09:49:59.501353Z"
    }
   },
   "outputs": [
    {
     "name": "stdout",
     "output_type": "stream",
     "text": [
      "<class 'pandas.core.frame.DataFrame'>\n",
      "Int64Index: 40573 entries, 0 to 40572\n",
      "Data columns (total 6 columns):\n",
      "brand_code     31070 non-null object\n",
      "series_code    31070 non-null object\n",
      "model_code     40573 non-null object\n",
      "median_res     27219 non-null float64\n",
      "level          40573 non-null object\n",
      "median         26263 non-null float64\n",
      "dtypes: float64(2), object(4)\n",
      "memory usage: 2.2+ MB\n",
      "<class 'pandas.core.frame.DataFrame'>\n",
      "Int64Index: 24677 entries, 0 to 24676\n",
      "Data columns (total 6 columns):\n",
      "brand_code     17796 non-null object\n",
      "series_code    17796 non-null object\n",
      "model_code     24677 non-null object\n",
      "median_res     17697 non-null float64\n",
      "level          24677 non-null object\n",
      "median         17003 non-null float64\n",
      "dtypes: float64(2), object(4)\n",
      "memory usage: 1.3+ MB\n"
     ]
    }
   ],
   "source": [
    "def fill_median(tar):\n",
    "    if(pd.isnull(tar['median_res'])):\n",
    "        if(pd.notnull(tar['median'])):\n",
    "            tar['median_res'] = tar['median']\n",
    "    return tar\n",
    "\n",
    "data_AA = data_A.apply(fill_median, axis=1)\n",
    "data_BB = data_B.apply(fill_median, axis=1)\n",
    "\n",
    "data_AA.info()\n",
    "data_BB.info()"
   ]
  },
  {
   "cell_type": "code",
   "execution_count": 10,
   "metadata": {
    "ExecuteTime": {
     "end_time": "2020-04-01T09:50:10.542036Z",
     "start_time": "2020-04-01T09:50:10.486451Z"
    }
   },
   "outputs": [
    {
     "name": "stdout",
     "output_type": "stream",
     "text": [
      "<class 'pandas.core.frame.DataFrame'>\n",
      "Int64Index: 40573 entries, 0 to 40572\n",
      "Data columns (total 6 columns):\n",
      "brand_code     31070 non-null object\n",
      "series_code    31070 non-null object\n",
      "model_code     40573 non-null object\n",
      "median_res     40573 non-null float64\n",
      "level          40573 non-null object\n",
      "median         26263 non-null float64\n",
      "dtypes: float64(2), object(4)\n",
      "memory usage: 2.2+ MB\n",
      "<class 'pandas.core.frame.DataFrame'>\n",
      "Int64Index: 24677 entries, 0 to 24676\n",
      "Data columns (total 6 columns):\n",
      "brand_code     17796 non-null object\n",
      "series_code    17796 non-null object\n",
      "model_code     24677 non-null object\n",
      "median_res     24677 non-null float64\n",
      "level          24677 non-null object\n",
      "median         17003 non-null float64\n",
      "dtypes: float64(2), object(4)\n",
      "memory usage: 1.3+ MB\n"
     ]
    }
   ],
   "source": [
    "data_AA['median_res'] = data_AA['median_res'].fillna(retail_A['median_res'].mean())\n",
    "data_AA.info()\n",
    "\n",
    "data_BB['median_res'] = data_BB['median_res'].fillna(retail_B['median_res'].mean())\n",
    "data_BB.info()"
   ]
  },
  {
   "cell_type": "code",
   "execution_count": 11,
   "metadata": {
    "ExecuteTime": {
     "end_time": "2020-04-01T09:50:10.923800Z",
     "start_time": "2020-04-01T09:50:10.881354Z"
    }
   },
   "outputs": [
    {
     "name": "stdout",
     "output_type": "stream",
     "text": [
      "<class 'pandas.core.frame.DataFrame'>\n",
      "Int64Index: 65250 entries, 0 to 24676\n",
      "Data columns (total 2 columns):\n",
      "model_code    65250 non-null object\n",
      "median_res    65250 non-null float64\n",
      "dtypes: float64(1), object(1)\n",
      "memory usage: 1.5+ MB\n"
     ]
    }
   ],
   "source": [
    "data_AAA = data_AA[['model_code', 'median_res']]\n",
    "data_BBB = data_BB[['model_code', 'median_res']]\n",
    "\n",
    "data_AB = pd.concat([data_AAA, data_BBB])\n",
    "data_AB.info()"
   ]
  },
  {
   "cell_type": "code",
   "execution_count": 12,
   "metadata": {
    "ExecuteTime": {
     "end_time": "2020-04-01T09:50:23.669377Z",
     "start_time": "2020-04-01T09:50:11.161014Z"
    }
   },
   "outputs": [
    {
     "name": "stdout",
     "output_type": "stream",
     "text": [
      "<class 'pandas.core.frame.DataFrame'>\n",
      "Int64Index: 65250 entries, 0 to 65249\n",
      "Data columns (total 3 columns):\n",
      "model_code    65250 non-null object\n",
      "median_res    65250 non-null float64\n",
      "count         25300 non-null float64\n",
      "dtypes: float64(2), object(1)\n",
      "memory usage: 2.0+ MB\n"
     ]
    }
   ],
   "source": [
    "# 读取count数据\n",
    "data = pd.read_csv(curr_dir+\"2020-11-02版带count处理完成的采购数据m.csv\", header = 0, low_memory=False)\n",
    "data_counts = data[['model_code', 'count']].drop_duplicates()\n",
    "\n",
    "data_AB = pd.merge(data_AB, data_counts, how='left', on=\"model_code\")\n",
    "data_AB.info()"
   ]
  },
  {
   "cell_type": "code",
   "execution_count": 13,
   "metadata": {
    "ExecuteTime": {
     "end_time": "2020-04-01T09:50:24.521394Z",
     "start_time": "2020-04-01T09:50:24.491018Z"
    }
   },
   "outputs": [
    {
     "name": "stdout",
     "output_type": "stream",
     "text": [
      "<class 'pandas.core.frame.DataFrame'>\n",
      "Int64Index: 65250 entries, 0 to 65249\n",
      "Data columns (total 3 columns):\n",
      "model_code     65250 non-null object\n",
      "median_res     65250 non-null float64\n",
      "data_number    25300 non-null float64\n",
      "dtypes: float64(2), object(1)\n",
      "memory usage: 2.0+ MB\n"
     ]
    }
   ],
   "source": [
    "data_AB = data_AB.rename(columns = {\"count\":\"data_number\"})\n",
    "data_AB.info()"
   ]
  },
  {
   "cell_type": "code",
   "execution_count": 16,
   "metadata": {
    "ExecuteTime": {
     "end_time": "2020-04-01T09:53:10.918299Z",
     "start_time": "2020-04-01T09:53:10.577878Z"
    }
   },
   "outputs": [],
   "source": [
    "data_AB.to_csv(curr_dir+\"2020-11-02采购模型的置信度.csv\", header = True, index = False)"
   ]
  },
  {
   "cell_type": "code",
   "execution_count": 18,
   "metadata": {},
   "outputs": [
    {
     "name": "stdout",
     "output_type": "stream",
     "text": [
      "DAYU_HOME : /home/souche/projects/datacenter-etl-v2\n"
     ]
    },
    {
     "name": "stderr",
     "output_type": "stream",
     "text": [
      "/home/souche/projects/calculation/py3dev_new/lib/python3.5/site-packages/psycopg2/__init__.py:144: UserWarning: The psycopg2 wheel package will be renamed from release 2.8; in order to keep installing from binary please use \"pip install psycopg2-binary\" instead. For details see: <http://initd.org/psycopg/docs/install.html#binary-install-from-pypi>.\n",
      "  \"\"\")\n"
     ]
    },
    {
     "name": "stdout",
     "output_type": "stream",
     "text": [
      "[2020-11-04 10:51:07,120] {driver:120} INFO - Generating grammar tables from /usr/lib/python3.5/lib2to3/Grammar.txt\n",
      "[2020-11-04 10:51:07,148] {driver:120} INFO - Generating grammar tables from /usr/lib/python3.5/lib2to3/PatternGrammar.txt\n",
      "[2020-11-04 10:51:07,480] {oss_hook:28} INFO - Done. Loaded the key algorithm/qiongjiu/valuation/2020-11-02/enterprise2_purchase_model_confidence.csv .\n"
     ]
    }
   ],
   "source": [
    "ph = curr_dir+\"enterprise2_purchase_model_confidence.csv\"\n",
    "data_AB.to_csv(ph)\n",
    "from dayu.hooks.oss_hook import OSSHook\n",
    "oss = OSSHook(\"oss_algorithm\")\n",
    "oss.put_file(\"algorithm/qiongjiu/valuation/2020-11-02/enterprise2_purchase_model_confidence.csv\", ph)\n"
   ]
  },
  {
   "cell_type": "code",
   "execution_count": null,
   "metadata": {},
   "outputs": [],
   "source": []
  }
 ],
 "metadata": {
  "kernelspec": {
   "display_name": "Python 3",
   "language": "python",
   "name": "python3"
  },
  "language_info": {
   "codemirror_mode": {
    "name": "ipython",
    "version": 3
   },
   "file_extension": ".py",
   "mimetype": "text/x-python",
   "name": "python",
   "nbconvert_exporter": "python",
   "pygments_lexer": "ipython3",
   "version": "3.5.2"
  },
  "toc": {
   "base_numbering": 1,
   "nav_menu": {},
   "number_sections": true,
   "sideBar": true,
   "skip_h1_title": false,
   "title_cell": "Table of Contents",
   "title_sidebar": "Contents",
   "toc_cell": false,
   "toc_position": {},
   "toc_section_display": true,
   "toc_window_display": false
  },
  "varInspector": {
   "cols": {
    "lenName": 16,
    "lenType": 16,
    "lenVar": 40
   },
   "kernels_config": {
    "python": {
     "delete_cmd_postfix": "",
     "delete_cmd_prefix": "del ",
     "library": "var_list.py",
     "varRefreshCmd": "print(var_dic_list())"
    },
    "r": {
     "delete_cmd_postfix": ") ",
     "delete_cmd_prefix": "rm(",
     "library": "var_list.r",
     "varRefreshCmd": "cat(var_dic_list()) "
    }
   },
   "types_to_exclude": [
    "module",
    "function",
    "builtin_function_or_method",
    "instance",
    "_Feature"
   ],
   "window_display": false
  }
 },
 "nbformat": 4,
 "nbformat_minor": 2
}
